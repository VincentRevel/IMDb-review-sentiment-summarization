{
 "cells": [
  {
   "cell_type": "code",
   "execution_count": 13,
   "id": "3504f4e5-15d7-46f5-8d50-56ba6ae9b5af",
   "metadata": {},
   "outputs": [],
   "source": [
    "import warnings\n",
    "warnings.filterwarnings(\"ignore\", category=UserWarning)\n",
    "\n",
    "from datasets import load_dataset\n",
    "from transformers import AutoModelForSeq2SeqLM, AutoTokenizer, GenerationConfig, TrainingArguments, Trainer, AutoModelForSequenceClassification\n",
    "import torch\n",
    "import time\n",
    "import evaluate\n",
    "import pandas as pd\n",
    "import numpy as np\n",
    "\n",
    "from peft import LoraConfig, get_peft_model, TaskType, LoraConfig, get_peft_model, TaskType, PeftModel\n",
    "import torch.nn.functional as F"
   ]
  },
  {
   "cell_type": "code",
   "execution_count": 3,
   "id": "c2e7824f-092b-47f3-830f-9b86d4dbc4e8",
   "metadata": {},
   "outputs": [],
   "source": [
    "device = torch.device('cuda' if torch.cuda.is_available() else 'cpu')"
   ]
  },
  {
   "cell_type": "markdown",
   "id": "84518a00-3daa-44d5-bfe7-d208f0e12ed2",
   "metadata": {},
   "source": [
    "## Sentiment Model"
   ]
  },
  {
   "cell_type": "code",
   "execution_count": 4,
   "id": "907ad14d-f51a-45eb-9ccd-108281c65492",
   "metadata": {},
   "outputs": [
    {
     "data": {
      "text/plain": [
       "T5ForConditionalGeneration(\n",
       "  (shared): Embedding(32128, 768)\n",
       "  (encoder): T5Stack(\n",
       "    (embed_tokens): Embedding(32128, 768)\n",
       "    (block): ModuleList(\n",
       "      (0): T5Block(\n",
       "        (layer): ModuleList(\n",
       "          (0): T5LayerSelfAttention(\n",
       "            (SelfAttention): T5Attention(\n",
       "              (q): Linear(in_features=768, out_features=768, bias=False)\n",
       "              (k): Linear(in_features=768, out_features=768, bias=False)\n",
       "              (v): Linear(in_features=768, out_features=768, bias=False)\n",
       "              (o): Linear(in_features=768, out_features=768, bias=False)\n",
       "              (relative_attention_bias): Embedding(32, 12)\n",
       "            )\n",
       "            (layer_norm): T5LayerNorm()\n",
       "            (dropout): Dropout(p=0.1, inplace=False)\n",
       "          )\n",
       "          (1): T5LayerFF(\n",
       "            (DenseReluDense): T5DenseGatedActDense(\n",
       "              (wi_0): Linear(in_features=768, out_features=2048, bias=False)\n",
       "              (wi_1): Linear(in_features=768, out_features=2048, bias=False)\n",
       "              (wo): Linear(in_features=2048, out_features=768, bias=False)\n",
       "              (dropout): Dropout(p=0.1, inplace=False)\n",
       "              (act): NewGELUActivation()\n",
       "            )\n",
       "            (layer_norm): T5LayerNorm()\n",
       "            (dropout): Dropout(p=0.1, inplace=False)\n",
       "          )\n",
       "        )\n",
       "      )\n",
       "      (1-11): 11 x T5Block(\n",
       "        (layer): ModuleList(\n",
       "          (0): T5LayerSelfAttention(\n",
       "            (SelfAttention): T5Attention(\n",
       "              (q): Linear(in_features=768, out_features=768, bias=False)\n",
       "              (k): Linear(in_features=768, out_features=768, bias=False)\n",
       "              (v): Linear(in_features=768, out_features=768, bias=False)\n",
       "              (o): Linear(in_features=768, out_features=768, bias=False)\n",
       "            )\n",
       "            (layer_norm): T5LayerNorm()\n",
       "            (dropout): Dropout(p=0.1, inplace=False)\n",
       "          )\n",
       "          (1): T5LayerFF(\n",
       "            (DenseReluDense): T5DenseGatedActDense(\n",
       "              (wi_0): Linear(in_features=768, out_features=2048, bias=False)\n",
       "              (wi_1): Linear(in_features=768, out_features=2048, bias=False)\n",
       "              (wo): Linear(in_features=2048, out_features=768, bias=False)\n",
       "              (dropout): Dropout(p=0.1, inplace=False)\n",
       "              (act): NewGELUActivation()\n",
       "            )\n",
       "            (layer_norm): T5LayerNorm()\n",
       "            (dropout): Dropout(p=0.1, inplace=False)\n",
       "          )\n",
       "        )\n",
       "      )\n",
       "    )\n",
       "    (final_layer_norm): T5LayerNorm()\n",
       "    (dropout): Dropout(p=0.1, inplace=False)\n",
       "  )\n",
       "  (decoder): T5Stack(\n",
       "    (embed_tokens): Embedding(32128, 768)\n",
       "    (block): ModuleList(\n",
       "      (0): T5Block(\n",
       "        (layer): ModuleList(\n",
       "          (0): T5LayerSelfAttention(\n",
       "            (SelfAttention): T5Attention(\n",
       "              (q): Linear(in_features=768, out_features=768, bias=False)\n",
       "              (k): Linear(in_features=768, out_features=768, bias=False)\n",
       "              (v): Linear(in_features=768, out_features=768, bias=False)\n",
       "              (o): Linear(in_features=768, out_features=768, bias=False)\n",
       "              (relative_attention_bias): Embedding(32, 12)\n",
       "            )\n",
       "            (layer_norm): T5LayerNorm()\n",
       "            (dropout): Dropout(p=0.1, inplace=False)\n",
       "          )\n",
       "          (1): T5LayerCrossAttention(\n",
       "            (EncDecAttention): T5Attention(\n",
       "              (q): Linear(in_features=768, out_features=768, bias=False)\n",
       "              (k): Linear(in_features=768, out_features=768, bias=False)\n",
       "              (v): Linear(in_features=768, out_features=768, bias=False)\n",
       "              (o): Linear(in_features=768, out_features=768, bias=False)\n",
       "            )\n",
       "            (layer_norm): T5LayerNorm()\n",
       "            (dropout): Dropout(p=0.1, inplace=False)\n",
       "          )\n",
       "          (2): T5LayerFF(\n",
       "            (DenseReluDense): T5DenseGatedActDense(\n",
       "              (wi_0): Linear(in_features=768, out_features=2048, bias=False)\n",
       "              (wi_1): Linear(in_features=768, out_features=2048, bias=False)\n",
       "              (wo): Linear(in_features=2048, out_features=768, bias=False)\n",
       "              (dropout): Dropout(p=0.1, inplace=False)\n",
       "              (act): NewGELUActivation()\n",
       "            )\n",
       "            (layer_norm): T5LayerNorm()\n",
       "            (dropout): Dropout(p=0.1, inplace=False)\n",
       "          )\n",
       "        )\n",
       "      )\n",
       "      (1-11): 11 x T5Block(\n",
       "        (layer): ModuleList(\n",
       "          (0): T5LayerSelfAttention(\n",
       "            (SelfAttention): T5Attention(\n",
       "              (q): Linear(in_features=768, out_features=768, bias=False)\n",
       "              (k): Linear(in_features=768, out_features=768, bias=False)\n",
       "              (v): Linear(in_features=768, out_features=768, bias=False)\n",
       "              (o): Linear(in_features=768, out_features=768, bias=False)\n",
       "            )\n",
       "            (layer_norm): T5LayerNorm()\n",
       "            (dropout): Dropout(p=0.1, inplace=False)\n",
       "          )\n",
       "          (1): T5LayerCrossAttention(\n",
       "            (EncDecAttention): T5Attention(\n",
       "              (q): Linear(in_features=768, out_features=768, bias=False)\n",
       "              (k): Linear(in_features=768, out_features=768, bias=False)\n",
       "              (v): Linear(in_features=768, out_features=768, bias=False)\n",
       "              (o): Linear(in_features=768, out_features=768, bias=False)\n",
       "            )\n",
       "            (layer_norm): T5LayerNorm()\n",
       "            (dropout): Dropout(p=0.1, inplace=False)\n",
       "          )\n",
       "          (2): T5LayerFF(\n",
       "            (DenseReluDense): T5DenseGatedActDense(\n",
       "              (wi_0): Linear(in_features=768, out_features=2048, bias=False)\n",
       "              (wi_1): Linear(in_features=768, out_features=2048, bias=False)\n",
       "              (wo): Linear(in_features=2048, out_features=768, bias=False)\n",
       "              (dropout): Dropout(p=0.1, inplace=False)\n",
       "              (act): NewGELUActivation()\n",
       "            )\n",
       "            (layer_norm): T5LayerNorm()\n",
       "            (dropout): Dropout(p=0.1, inplace=False)\n",
       "          )\n",
       "        )\n",
       "      )\n",
       "    )\n",
       "    (final_layer_norm): T5LayerNorm()\n",
       "    (dropout): Dropout(p=0.1, inplace=False)\n",
       "  )\n",
       "  (lm_head): Linear(in_features=768, out_features=32128, bias=False)\n",
       ")"
      ]
     },
     "execution_count": 4,
     "metadata": {},
     "output_type": "execute_result"
    }
   ],
   "source": [
    "model_name='google/flan-t5-base'\n",
    "\n",
    "base_model = AutoModelForSeq2SeqLM.from_pretrained(\n",
    "    model_name, \n",
    "    torch_dtype=torch.bfloat16,\n",
    "    trust_remote_code=True,\n",
    ")\n",
    "\n",
    "peft_model = PeftModel.from_pretrained(base_model, './peft-dialogue-summary-checkpoint-local/')\n",
    "peft_model = peft_model.merge_and_unload()\n",
    "\n",
    "tokenizer_peft = AutoTokenizer.from_pretrained(\"./peft-dialogue-summary-checkpoint-local/\", trust_remote_code=True)\n",
    "peft_model.pad_token_id = tokenizer_peft.pad_token_id\n",
    "peft_model.config.pad_token_id = tokenizer_peft.pad_token_id\n",
    "peft_model.to(device)"
   ]
  },
  {
   "cell_type": "code",
   "execution_count": 16,
   "id": "b369a2c7-1291-459f-9c3b-464a5f94a115",
   "metadata": {},
   "outputs": [],
   "source": [
    "# Adjust generation parameters\n",
    "generation_config = GenerationConfig(\n",
    "    max_new_tokens=1,\n",
    "    num_beams=2,      # Increase the number of beams for better exploration but more computation need\n",
    "    temperature=0.0,  # Set to 0 to eliminate randomness\n",
    "    top_k=1,          # Setting top_k to 1 ensures only the most probable token is considered\n",
    "    top_p=1.0         # Setting top_p to 1.0 effectively disables nucleus sampling\n",
    ")\n",
    "\n",
    "def get_sentiment(text):\n",
    "    prompt = f\"\"\"\n",
    "    classify sentiment: \n",
    "    {text}\n",
    "    \n",
    "    Sentiment:\n",
    "    \"\"\"\n",
    "    # Start measuring time\n",
    "    start_time = time.time()\n",
    "\n",
    "    # Tokenize the input and move to the same device\n",
    "    input_ids = tokenizer_peft(prompt, \n",
    "                               return_tensors='pt',\n",
    "                               max_length=512,\n",
    "                               truncation=True,\n",
    "                               padding='max_length'\n",
    "    ).input_ids.to(device)\n",
    "\n",
    "    # Generate output with the PEFT model\n",
    "    with torch.no_grad():\n",
    "        peft_output = peft_model.generate(input_ids=input_ids, generation_config=generation_config)\n",
    "    \n",
    "    peft_model_sentiment_output = tokenizer_peft.decode(peft_output[0], skip_special_tokens=True)\n",
    "    \n",
    "    # End measuring time\n",
    "    end_time = time.time()\n",
    "    elapsed_time = end_time - start_time\n",
    "\n",
    "    return(peft_model_sentiment_output, elapsed_time)"
   ]
  },
  {
   "cell_type": "code",
   "execution_count": 37,
   "id": "d6ccda0b-ea14-4c8b-9744-c14b117be709",
   "metadata": {},
   "outputs": [],
   "source": [
    "def count_tokens(text, tokenizer):\n",
    "    \"\"\"\n",
    "    Counts the number of tokens in the given text using the specified tokenizer.\n",
    "    \n",
    "    Parameters:\n",
    "    text (str): The input text to tokenize.\n",
    "    tokenizer: The tokenizer object used for encoding the text.\n",
    "    \n",
    "    Returns:\n",
    "    int: The number of tokens in the input text.\n",
    "    \"\"\"\n",
    "    # Tokenize the text and return the length of the token list\n",
    "    tokens = tokenizer(text, return_tensors='pt', truncation=False, padding=False).input_ids.to(device)\n",
    "    return len(tokens[0])"
   ]
  },
  {
   "cell_type": "markdown",
   "id": "37859302-b4be-469a-8048-ea5983537e69",
   "metadata": {},
   "source": [
    "## Summarization Model"
   ]
  },
  {
   "cell_type": "code",
   "execution_count": 41,
   "id": "7047c1c1-cac1-44ed-a5d4-dff0b0f2dd98",
   "metadata": {},
   "outputs": [],
   "source": [
    "from transformers import PegasusForConditionalGeneration, PegasusTokenizer\n",
    "\n",
    "pegasus_sum = 'tuner007/pegasus_summarizer'\n",
    "torch_device = 'cuda' if torch.cuda.is_available() else 'cpu'\n",
    "pegasus_tokenizer = PegasusTokenizer.from_pretrained(pegasus_sum)\n",
    "pegasus_model = PegasusForConditionalGeneration.from_pretrained(pegasus_sum).to(torch_device)"
   ]
  },
  {
   "cell_type": "code",
   "execution_count": 64,
   "id": "2c4aab08-3f3b-4a8b-bb49-9aeda94e122a",
   "metadata": {},
   "outputs": [],
   "source": [
    "def get_summarize(input_text):\n",
    "  batch = pegasus_tokenizer([input_text],truncation=True,padding='longest',max_length=1024, return_tensors=\"pt\").to(torch_device)\n",
    "  gen_out = pegasus_model.generate(\n",
    "        **batch,\n",
    "        max_length=128,\n",
    "        num_beams=3,\n",
    "        temperature=0.7,        # Lower temperature to reduce randomness\n",
    "        top_k=50,               # Use top_k sampling\n",
    "        top_p=0.95,             # Use top_p sampling\n",
    "        repetition_penalty=2.0  # Penalize repetition\n",
    "    )\n",
    "  output_text = pegasus_tokenizer.batch_decode(gen_out, skip_special_tokens=True)\n",
    "  return output_text"
   ]
  },
  {
   "cell_type": "markdown",
   "id": "5baa9eb1-aebf-4f2a-9661-7bc0a1a73c70",
   "metadata": {},
   "source": [
    "## BS4 setup"
   ]
  },
  {
   "cell_type": "code",
   "execution_count": 17,
   "id": "6ddf537a-73ae-47ba-949e-ebf9621492fc",
   "metadata": {},
   "outputs": [],
   "source": [
    "from bs4 import BeautifulSoup\n",
    "import requests\n",
    "import pandas as pd\n",
    "from imdb import IMDb"
   ]
  },
  {
   "cell_type": "code",
   "execution_count": 18,
   "id": "d6e22813-96c0-4fb6-bcad-5d4f2ae8f2ec",
   "metadata": {},
   "outputs": [],
   "source": [
    "def scrape_imdb_reviews(imdb_id):\n",
    "    # Construct the URL for the movie's reviews page\n",
    "    url = f\"https://www.imdb.com/title/tt{imdb_id}/reviews?sort=totalVotes\"\n",
    "\n",
    "    # Send a GET request to the URL\n",
    "    response = requests.get(url)\n",
    "    \n",
    "    # Parse the HTML content of the page\n",
    "    soup = BeautifulSoup(response.content, \"html.parser\")\n",
    "\n",
    "    # Find all review elements on the page\n",
    "    reviews = soup.find_all(\"div\", class_=\"text show-more__control\")\n",
    "\n",
    "    # Extract the text of each review\n",
    "    review_texts = [review.get_text() for review in reviews]\n",
    "\n",
    "    return review_texts\n",
    "\n",
    "def get_imdb_id(movie_title):\n",
    "    # Create an instance of the IMDb class\n",
    "    ia = IMDb()\n",
    "\n",
    "    # Search for a movie by title\n",
    "    results = ia.search_movie(movie_title)\n",
    "\n",
    "    # Return the IMDb ID of the first result, if available\n",
    "    if results:\n",
    "        return results[0].movieID\n",
    "    else:\n",
    "        return None"
   ]
  },
  {
   "cell_type": "markdown",
   "id": "ef439793-bdf0-484f-a346-002a2be99e20",
   "metadata": {},
   "source": [
    "## Some testing"
   ]
  },
  {
   "cell_type": "code",
   "execution_count": 45,
   "id": "9d016992-fe06-43a5-8f30-5809c08441b3",
   "metadata": {
    "scrolled": true
   },
   "outputs": [
    {
     "name": "stdout",
     "output_type": "stream",
     "text": [
      "----------------------------------------------------------------------------------------------------\n",
      "Initial paragraph:  Can Hollywood, usually creating things for entertainment purposes only, create art?  To create something of this nature, a director must approach it in a most meticulous manner, due to the delicacy of the process.  Such a daunting task requires an extremely capable artist with an undeniable managerial capacity and an acutely developed awareness of each element of art in their films, the most prominent; music, visuals, script, and acting. These elements, each equally important, must succeed independently, yet still form a harmonious union, because this mixture determines the fate of the artist's opus.  Though already well known amongst his colleagues for his notable skills at writing and directing, Frank Darabont emerges with his feature film directorial debut, The Shawshank Redemption.  Proving himself already a master of the craft, Darabont managed to create one of the most recognizable independent releases in the history of Hollywood.  The Shawshank Redemption defines a genre, defies the odds, compels the emotions, and brings an era of artistically influential films back to Hollywood.The story begins with the trial of a young banker, Andy Dufrense, victimized by circumstantial evidence, resulting in a conviction for the murder of his wife and her lover.  After a quick conviction, Andy finds himself serving a life sentence at Shawshank prison, with no hope of parole.  He exists in this prison only in appearance, keeping his mind free from the drab walls around him.  His ability to do this results in the gaining of respect from his fellow inmates, but most of all from Ellis Redding.  Ellis, commonly referred to as Red, finds gainful use of his entrepreneurial spirit within the drab walls of Shawshank by dealing in contraband and commodities rare to the confines of prison.  Andy's demeanor and undeniable sense of hope causes Red to take a deeper look at himself, and the world around him.  Andy proves to Red and the other inmates that in the conventional walls of Shawshank prison convention will find no home in his lifestyle.By creating the film's firm foundation, the meticulously chiseled screenplay paved the way for this film's success.  Frank Darabont outdoes himself with the phenomenal adaptation of Stephen King's equally noteworthy novella, Rita Hayworth and Shawshank Redemption.  In this novella, King demonstrates that he can break free from the genre he dominates and still create a marvelous piece of modern literature.  Though the film mirrors the novella in many ways, Darabont illustrates a focused objective of improving upon the areas where the novella came up short, resulting in one of the best book to film transitions ever.While maintaining some of the poetic and moving dialogue of the novella, Darabont also proves that a film's score can generate a great deal of emotional response from its audience, as dialogue does.  He employs the cunning Thomas Newman, son of the legendary Hollywood composer, Alfred Newman.  Darabont shows recognition for the film's needs by employing Newman, who makes the gentle piano chords whisper softly to the viewer, as if a part of the scripted dialogue.  Newman lends himself to individualism and tends to drive more towards the unique in the realm of score composition.  His effort in Shawshank did not go unnoticed, as his score received an Oscar nomination in 1995.  While unique and independent, Newman's score never once intrudes on your concentration or distracts from the film.With work from vast array of talented scene designers, costume designers, composers, cinematographers, and various other Hollywood artists, the cast of The Shawshank Redemption had a strong foundation to work with.  The marvelous cast of this film will dazzle you with some of the most convincing performances you will witness in a film.  While both Tim Robbins and Morgan Freeman shine as Andy and Red, respectively, the true spectacle of acting lies within the plethora of amazing supporting actors who easily disappear into their roles.  Most noticeable of these, the veteran film star James Whitmore, who portrays the elderly Brooks Hatlen.  Brooks, a man incarcerated for an unmentioned crime for so long that he finds himself attached to the Shawshank and the daily life he has lead.  Each of these actors show a true dedication to their art, and a focused purpose in their motivations, creating a convincing setting that never once caters to anything unbelievable.With all of the aesthetic touches and attention to cinematic detail, the most beautiful part of the film lies within its thematic material, such as its focus on the human desires for the most abstract concepts, like hope and freedom.  These themes, which concern things the human spirit undoubtedly yearns for, seem so intricately woven into the plot that it easily draws its audience in to its story.  Though full of hardened criminals, your heart will go out to these men as they display the most basic of human emotions, and deliver some of the most quotable lines in a film to date.  Like a great novel, this film manages to succeed at greater things than simply entertaining an audience.  Darabont tells his story most masterfully, illustrating principles and inspiring his audience to think.  He leaves us a poignant film with a powerful message of hope, and redemption, something we all seek.This film manages to redeem Hollywood in the eyes of people who feared it long lost in a dark sea of clichés and predictability.  Darabont shows us that artists still work in the Hollywood studios and production facilities. These artists show their capability to produce art; real art that inspires you to look at the deeper aspects of life and the world around you.  The Shawshank Redemption delivers much-needed breath of fresh air for anyone who realizes the capability of film.  It proves that masters of the craft still live on this earth, and still bless us with timeless masterpieces that we will never forget.\n",
      "Initial sentiment:  positive\n",
      "Initial runtime:  2.3783445358276367\n",
      "----------------------------------------------------------------------------------------------------\n",
      "Summary:  [\"Frank Darabont's directorial debut 'The Shawshank Redemption', starring Tim Robbins and Morgan Freeman, is an adaptation of Stephen King's novella 'Rita Hayworth and Shawshank Redemption'. The film is based on King's novel of the same name. Darabont, who also wrote the screenplay of the film, has directed films like 'The Shawshank Redemption', 'The Shawshank Redemption 2' and 'The Shawshank Redemption 3'.\"]\n",
      "Sentiment Summary:  positive\n",
      "Runtime Summary:  2.2595980167388916\n"
     ]
    }
   ],
   "source": [
    "imdb_id = get_imdb_id(\"The Shawshank Redemption\")\n",
    "reviews = scrape_imdb_reviews(imdb_id)\n",
    "init_sentiment, init_runtime = get_sentiment(reviews[0])\n",
    "\n",
    "paragraph_sum = get_summarize(reviews[0])\n",
    "sum_sentiment, sum_runtime = get_sentiment(paragraph_sum)\n",
    "\n",
    "dash_line = '-' * 100\n",
    "print(dash_line)\n",
    "print(\"Initial paragraph: \", reviews[0])\n",
    "print(\"Initial sentiment: \", init_sentiment)\n",
    "print(\"Initial runtime: \", init_runtime)\n",
    "\n",
    "print(dash_line)\n",
    "print(\"Summary: \", paragraph_sum)\n",
    "print(\"Sentiment Summary: \", sum_sentiment)\n",
    "print(\"Runtime Summary: \", sum_runtime)"
   ]
  },
  {
   "cell_type": "code",
   "execution_count": 52,
   "id": "ba42a86a-6007-4fea-95bf-570f2bbc58e4",
   "metadata": {},
   "outputs": [],
   "source": [
    "imdb_id = get_imdb_id(\"Plowjaifjafheauife\")"
   ]
  },
  {
   "cell_type": "code",
   "execution_count": 54,
   "id": "532d12bd-b796-4968-a76c-0ca9b92836c0",
   "metadata": {},
   "outputs": [
    {
     "name": "stdout",
     "output_type": "stream",
     "text": [
      "None\n"
     ]
    }
   ],
   "source": [
    "print(imdb_id)"
   ]
  },
  {
   "cell_type": "code",
   "execution_count": 51,
   "id": "732f0d63-0177-4a3b-996e-d32cc1cf9a51",
   "metadata": {},
   "outputs": [
    {
     "name": "stdout",
     "output_type": "stream",
     "text": [
      "37.20534944534302\n",
      "Number of tokens: 128\n"
     ]
    }
   ],
   "source": [
    "start_time = time.time()\n",
    "try_sent = get_summarize(reviews[0])\n",
    "end_time = time.time()\n",
    "token_count = count_tokens(try_sent, tokenizer_peft)\n",
    "elapsed_time = end_time - start_time\n",
    "print(elapsed_time)\n",
    "print(f\"Number of tokens: {token_count}\")"
   ]
  },
  {
   "cell_type": "code",
   "execution_count": 65,
   "id": "f30d23fa-4207-4e52-b0e5-0b9acf440c70",
   "metadata": {},
   "outputs": [],
   "source": [
    "def show_info(title):\n",
    "    imdb_id = get_imdb_id(title)\n",
    "    if imdb_id == None:\n",
    "        return 'Title not found'\n",
    "    \n",
    "    reviews = scrape_imdb_reviews(imdb_id)\n",
    "    summary_reviews = []\n",
    "    \n",
    "    for review in reviews:\n",
    "        summarize = get_summarize(review)\n",
    "        sentiment = get_sentiment(summarize)\n",
    "        summary_reviews.append((summarize, sentiment))\n",
    "\n",
    "    return summary_reviews"
   ]
  },
  {
   "cell_type": "code",
   "execution_count": 66,
   "id": "52da97f5-6290-4d30-8aea-6886a27ad547",
   "metadata": {},
   "outputs": [],
   "source": [
    "x = show_info(\"Interstellar\")"
   ]
  },
  {
   "cell_type": "code",
   "execution_count": 67,
   "id": "17161223-7b83-4a95-8e07-7e326046dda9",
   "metadata": {},
   "outputs": [
    {
     "data": {
      "text/plain": [
       "[(['\\'Interstellar\\' is \"the best sci-fi movie of the decade, about mankind, about pioneers, about humanity, and probably the best movie of the decade ever made\", wrote Bollywood Hungama. \"It can only be a 10, because in itself, it is a beginning for a new kind of cinema,\" it added. The film also starred Matthew McConaughey, Anne Hathaway, Michael Caine and Ben Affleck.'],\n",
       "  ('positive', 2.2364296913146973)),\n",
       " (['Christopher Nolan\\'s \\'Interstellar\\' is the first film of a new stage in Nolan\\'s filmography, Steven Soderbergh said. \"It\\'s the proof that Nolan has finally managed to create a masterpiece...despite all the expectations that were placed on him after the success of \\'The Dark Knight\\',\" he added. \"This is much more than just a sci-fi movie,\" Soderbergh further said.'],\n",
       "  ('positive', 2.3036580085754395)),\n",
       " (['After watching this insane movie in the theatres back in 2014 I swore to god I will wait 5 years to watch it again so I get to forget it and experience the insanity it has again This without doubt is the best movie ever made'],\n",
       "  ('positive', 2.2388901710510254)),\n",
       " (['Matthew McConaughey-starrer \\'Mud\\' has been rated 1 out of 5 on Rotten Tomatoes. Criticising the film, a user wrote, \"It\\'s beyond me how people can claim the movie to be \\'brainy\\', \\'intelligent\\', \\'well written\\'.\" He added, \"Why couldn\\'t they have done the same thing on Earth? Just build the same goddamn station on Earth without needing to harvest their gravitational energy bullsh*t.\"'],\n",
       "  ('negative', 2.507812976837158)),\n",
       " (['Christopher Nolan\\'s \\'Interstellar\\', which released on Friday, is \"truly a sci-fi epic like no other\", writes Hindustan Times. \"To compare said film to \\'2001: A Space Odyssey\\' isn\\'t just a disservice, but unnecessary. The films are almost nothing alike, simply sharing small plot elements,\" it added. \"The visual effects are easily the best to date...and of the year,\" it further said.'],\n",
       "  ('positive', 2.3970532417297363)),\n",
       " (['Christopher Nolan\\'s \\'Interstellar\\', which released in India on Friday, is \"one of the greatest science fiction films to have ever graced the screen\", wrote The Times of India (TOI). It was rated 3/5 (TOI) and 2/5 (The Times of India) by Hindustan Times (HT). It was rated 2.5/5 (HT) and 2/5 (HT) by NDTV.'],\n",
       "  ('positive', 2.438504457473755)),\n",
       " (['\\'Interstellar\\' director Christopher Nolan, who passed away on Saturday at the age of 53, was known for directing films like \\'Batman Begins\\' and \\'The Dark Knight\\'. Reacting to his demise, actor Akshay Kumar said, \"He is an icon and a legend of directing.\" He added, \"What\\'s wrong with this guy?!! what\\'s going on inside his head?\"'],\n",
       "  ('negative', 2.488232374191284)),\n",
       " (['Christopher Nolan\\'s \\'Interstellar\\', which released today, is a \"marvellous piece of work whose visuals will be hard to forget\", wrote Bollywood Hungama. \"The visual imagery is truly beautiful and something that Nolan has always excelled at,\" it added. \"I don\\'t think this is Nolan\\'s best. I believe Memento stands as his masterpiece,\" wrote Hindustan Times.'],\n",
       "  ('positive', 2.4351344108581543)),\n",
       " ([\"Christopher Nolan's 'Interstellar' was the best movie I have ever seen. Matthew McConaughey turned in his best performance of his lifetime. Anne Hathaway was an amazing supporting actress and compared to her performance in Les Miserables, I have no idea how she didn't get an Oscar for this. The visual effects were more than just Oscar worthy.\"],\n",
       "  ('positive', 2.560533285140991)),\n",
       " (['After watching \\'The Dark Knight\\', a user wrote, \"I watched the same movie that the majority of reviewers of this movie on IMDb seemed to.\" He added, \"Perhaps I was unknowingly sucked into a blackhole, or plot hole that most of the other reviewers of this movie managed to avoid. All I know is that my hard-earned money was sucked into this monstrosity along with me.\"'],\n",
       "  ('negative', 2.69401478767395)),\n",
       " (['Christopher Nolan\\'s \\'Interstellar\\', which released on Friday, is an \"excellent\" film and will no doubt be nominated for an Oscar, said Bollywood Hungama. \"The visuals were outstanding, and will no doubt be nominated for an Oscar. The performances were excellent, though nothing Oscar worthy,\" it added. It was directed by Nolan\\'s brother Jonathan Nolan.'],\n",
       "  ('positive', 2.532020092010498)),\n",
       " (['After watching \\'Interstellar\\' in imax 70mm, a user tweeted, \"I recommend this movie to all the Sci-Fi fans out there, make sure you go in group of sci-fi nuts!\" Another user wrote, \"Just watched Interstellar in imax 70mm. Science Fiction fans can read on, everyone else can skip.\" \"This movie will be known as great after few months,\" another user wrote.'],\n",
       "  ('positive', 2.331895112991333)),\n",
       " (['\\'Interstellar\\' composer Hans Zimmer has said that the story of Matthew McConaughey\\'s character and his daughter, Mackenzie Foy, in the film is complex. \"The story is complex about imagination, hard decisions, black holes, new worlds, and travel through them,\" he added. \"Once we become parents, hold the key but look at ourselves through the eyes of our children,\" Zimmer further said.'],\n",
       "  ('positive', 3.1132118701934814)),\n",
       " (['\\'Interstellar\\' is a \"truly dreadful piece of film-making\", wrote Bollywood Hungama. \"The pace is stunningly poorly judged - the first hour in particular could have been cut to ten minutes and far more would have been gained than lost,\" it added. \"The characters are paper-thin, and I didn\\'t care about any of them. The plot is entirely derivative (mostly of the vastly superior \\'Contact\\'),\" it further said.'],\n",
       "  ('positive', 2.7425026893615723)),\n",
       " (['Matthew McConaughey-starrer \\'Interstellar\\', which released on Friday, is a \"huge letdown and misunderstanding\", according to Bollywood Hungama. \"It\\'s in general similar to Mission to Mars or The Red Planet, where the handful of daredevils are put in the spaceship to venture on a mission, which result will impact the whole human race,\" it said. \"The whole plot is neither engaging nor entertaining,\" it added.'],\n",
       "  ('negative', 2.6054303646087646)),\n",
       " (['After watching \\'Black hole\\', a user wrote, \"The idea of the movie is fantastic, but poorly developed and acted, totally confusing, too much cliché.\" He added, \"I wanted to feel that great emotion of discovering deeps space but I failed. Instead the characters talked about crazy physics and plans to save humanity.\"'],\n",
       "  ('negative', 2.5553040504455566)),\n",
       " (['\\'2001: A Space Odyssey\\' is without exception the dumbest film I have ever sat through, according to a Reddit user. \"The soundtrack is not exhaustive,\" he wrote. \"There is a catastrophic failure in most of the crops of the world. And the entire scientific community simply shrugs and says, \\'Oh well. Dem\\'s the breaks\\',\" he added.'],\n",
       "  ('negative', 2.5838236808776855)),\n",
       " (['Christopher Nolan\\'s \\'Interstellar\\', which released in India on Friday, is \"one goddamnedly good film\", wrote Bollywood Hungama. \"It gets you to the edge of your seat, it soars, it warps, it rips your brain senseless,\" wrote The Times of India (TOI). It was rated 3/5 (Bollywood Hungama), 2/5 (The Times of India) and 1.5/5 (TOI).'],\n",
       "  ('positive', 2.7897746562957764)),\n",
       " (['\\'Inception\\' director Christopher Nolan\\'s upcoming film \\'Theory of Everything\\', which stars Leonardo DiCaprio in the lead role, has been rated 5/10 by Rotten Tomatoes. \"This film has absolutely no logic to it,\" a user wrote. \"It was so stupid on so many levels with even the most basic of facts that I have no comments to this...Set your expectations low- no way in hell does this film deserve any praise,\" wrote another.'],\n",
       "  ('negative', 2.5036981105804443)),\n",
       " (['\\'Star Wars: The Force Awakens\\' is an excellent film that tells an excellent stand-alone story that is both riveting and believable, said a critic. \"It was so riveting if there were any I didn\\'t notice them!\" he added. \"I watched this movie all the way through with no bathroom breaks. My interest was grabbed from the start and held all the way through,\" he further said.'],\n",
       "  ('positive', 2.460449457168579)),\n",
       " ([\"Christopher Nolan's 'Interstellar', starring Matthew McConaughey, Anne Hathaway, Michael Caine and Jessica Chastain, has been rated 3/5 (Bollywood Hungama) and 2/5 (The Times of India). It is directed by Nolan, who also helmed films like 'Inception' and 'The Dark Knight'. The film is based on the novel 'Interstellar' by Jonathan Swift.\"],\n",
       "  ('positive', 2.490898370742798)),\n",
       " (['\\'Interstellar\\' is a film about \"saving humanity\" but it is unclear who will pay for humanity\\'s failures, wrote Hindustan Times. \"The film offers a great debate over where to repopulate, but none about what we have learned from having to leave our home in the first place,\" it added. \"There is no therapy, no penance, no sacrifice,\" it further said.'],\n",
       "  ('negative', 2.6956138610839844)),\n",
       " (['Director Christopher Nolan\\'s \\'Interstellar\\', which released on Friday, has been rated 3.5/5 ( Rotten Tomatoes) and 3/5 ( IMDb). Talking about the film, Bollywood Hungama said, \"It\\'s not only the visual experience (there is no 3D here by the way), it\\'s the story/ride you take with it. It might be clear to some earlier than to others, where it\\'s heading.\"'],\n",
       "  ('positive', 3.0504775047302246)),\n",
       " (['Director Christopher Nolan\\'s latest film \\'The Dark Knight\\', which released on Friday, was criticised for its \"poorly developing plot, immature explanation of astrophysics, unbelievable and unrelated events and characters, worst effects leveled to a Disney comedy, and horrible music\". The film also featured Mathew McCoey, Mat Damon and Anne Hathaway.'],\n",
       "  ('negative', 2.559818744659424)),\n",
       " (['Hans Zimmer\\'s \\'Interstellar\\', which won the Oscar for Best Visual Effects, is a \"daring creative wonder\", writes Hindustan Times. \"Never have I seen a movie elevated so much by its score. The sound literally took my breath away,\" it added. \"In every meaningful moment Zimmer\\'s harmonies captivated watchers\\' attention in the way of a coach commanding a locker room with a speech,\" it further said.'],\n",
       "  ('positive', 2.394923448562622))]"
      ]
     },
     "execution_count": 67,
     "metadata": {},
     "output_type": "execute_result"
    }
   ],
   "source": [
    "x"
   ]
  },
  {
   "cell_type": "code",
   "execution_count": null,
   "id": "dbc9faeb-9222-46a5-926e-910eadfd9fca",
   "metadata": {},
   "outputs": [],
   "source": [
    "from collections import defaultdict\n",
    "\n",
    "grouped_reviews = defaultdict(lambda: {\"positive\": [], \"negative\": []})\n",
    "\n",
    "for review, sentiment in x:\n",
    "    grouped_reviews[title][sentiment].append(review)"
   ]
  }
 ],
 "metadata": {
  "kernelspec": {
   "display_name": "Python 3 (ipykernel)",
   "language": "python",
   "name": "python3"
  },
  "language_info": {
   "codemirror_mode": {
    "name": "ipython",
    "version": 3
   },
   "file_extension": ".py",
   "mimetype": "text/x-python",
   "name": "python",
   "nbconvert_exporter": "python",
   "pygments_lexer": "ipython3",
   "version": "3.10.14"
  }
 },
 "nbformat": 4,
 "nbformat_minor": 5
}

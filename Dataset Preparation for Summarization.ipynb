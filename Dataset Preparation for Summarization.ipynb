{
 "cells": [
  {
   "cell_type": "code",
   "execution_count": 1,
   "id": "9bb0bcd4-1038-4306-b706-e6d722c99cf1",
   "metadata": {},
   "outputs": [],
   "source": [
    "import warnings\n",
    "warnings.filterwarnings(\"ignore\", category=UserWarning)\n",
    "\n",
    "from datasets import load_dataset\n",
    "from transformers import AutoModelForSeq2SeqLM, AutoTokenizer, GenerationConfig, TrainingArguments, Trainer, AutoModelForSequenceClassification\n",
    "import torch\n",
    "import time\n",
    "import evaluate\n",
    "import pandas as pd\n",
    "import numpy as np\n",
    "\n",
    "from peft import LoraConfig, get_peft_model, TaskType, LoraConfig, get_peft_model, TaskType, PeftModel\n",
    "import torch.nn.functional as F"
   ]
  },
  {
   "cell_type": "markdown",
   "id": "997e04b4-4187-45ac-9c7f-a0899ae3467c",
   "metadata": {},
   "source": [
    "## Load Model"
   ]
  },
  {
   "cell_type": "code",
   "execution_count": 2,
   "id": "0aceeb0d-ec31-4337-a825-dec39a3b3bf5",
   "metadata": {},
   "outputs": [],
   "source": [
    "model_name='google/flan-t5-base'\n",
    "\n",
    "base_model = AutoModelForSeq2SeqLM.from_pretrained(\n",
    "    model_name, \n",
    "    torch_dtype=torch.bfloat16,\n",
    "    trust_remote_code=True,\n",
    ")\n",
    "\n",
    "peft_model = PeftModel.from_pretrained(base_model, './peft-dialogue-summary-checkpoint-local/')\n",
    "peft_model = peft_model.merge_and_unload()\n",
    "\n",
    "tokenizer_peft = AutoTokenizer.from_pretrained(\"./peft-dialogue-summary-checkpoint-local/\", trust_remote_code=True)"
   ]
  },
  {
   "cell_type": "code",
   "execution_count": 3,
   "id": "d1edc503-07bb-4c69-8a59-b275e1bf3a22",
   "metadata": {},
   "outputs": [],
   "source": [
    "peft_model.pad_token_id = tokenizer_peft.pad_token_id\n",
    "peft_model.config.pad_token_id = tokenizer_peft.pad_token_id"
   ]
  },
  {
   "cell_type": "code",
   "execution_count": 4,
   "id": "d7dbfe54-9641-49aa-9b25-0c5b32d02f50",
   "metadata": {},
   "outputs": [],
   "source": [
    "# Move models to the appropriate device\n",
    "device = torch.device('cuda' if torch.cuda.is_available() else 'cpu')\n",
    "peft_model.to(device)\n",
    "\n",
    "# Adjust generation parameters\n",
    "generation_config = GenerationConfig(\n",
    "    max_new_tokens=1,\n",
    "    num_beams=4,  # Increase the number of beams for better exploration\n",
    "    temperature=0.7,  # Add temperature to control randomness\n",
    "    top_k=50,  # Add top_k sampling\n",
    "    top_p=0.95  # Add top_p sampling\n",
    ")\n",
    "\n",
    "def get_sentiment(text):\n",
    "    prompt = f\"\"\"\n",
    "    classify sentiment: \n",
    "    {text}\n",
    "    \n",
    "    Sentiment:\n",
    "    \"\"\"\n",
    "    # Start measuring time\n",
    "    start_time = time.time()\n",
    "\n",
    "    # Tokenize the input and move to the same device\n",
    "    input_ids = tokenizer_peft(prompt, return_tensors='pt').input_ids.to(device)\n",
    "\n",
    "    # Generate output with the PEFT model\n",
    "    with torch.no_grad():\n",
    "        peft_output = peft_model.generate(input_ids=input_ids, generation_config=generation_config)\n",
    "    \n",
    "    peft_model_sentiment_output = tokenizer_peft.decode(peft_output[0], skip_special_tokens=True)\n",
    "    \n",
    "    # End measuring time\n",
    "    end_time = time.time()\n",
    "    elapsed_time = end_time - start_time\n",
    "\n",
    "    # dash_line = '-' * 100\n",
    "    # print(dash_line)\n",
    "    # print(f'INPUT PROMPT:\\n{prompt}')\n",
    "    # print(dash_line)\n",
    "    # print(f'PEFT MODEL GENERATION - ZERO SHOT:\\n{peft_model_sentiment_output}')\n",
    "    # print(dash_line)\n",
    "    # print(f'Running time: {elapsed_time:.2f} seconds')\n",
    "    return(peft_model_sentiment_output, elapsed_time)"
   ]
  },
  {
   "cell_type": "markdown",
   "id": "c9c61681-9c9c-4bff-b7e3-dda21cd08d07",
   "metadata": {},
   "source": [
    "## Scrape movie reviews"
   ]
  },
  {
   "cell_type": "code",
   "execution_count": 5,
   "id": "804f2492-f79d-427c-b830-c137636c2e18",
   "metadata": {},
   "outputs": [],
   "source": [
    "from bs4 import BeautifulSoup\n",
    "import requests\n",
    "import pandas as pd\n",
    "from imdb import IMDb"
   ]
  },
  {
   "cell_type": "code",
   "execution_count": 6,
   "id": "910010aa-f086-483a-978e-992cc74743b9",
   "metadata": {},
   "outputs": [],
   "source": [
    "def scrape_imdb_reviews(imdb_id):\n",
    "    # Construct the URL for the movie's reviews page\n",
    "    url = f\"https://www.imdb.com/title/tt{imdb_id}/reviews?sort=totalVotes\"\n",
    "\n",
    "    # Send a GET request to the URL\n",
    "    response = requests.get(url)\n",
    "    \n",
    "    # Parse the HTML content of the page\n",
    "    soup = BeautifulSoup(response.content, \"html.parser\")\n",
    "\n",
    "    # Find all review elements on the page\n",
    "    reviews = soup.find_all(\"div\", class_=\"text show-more__control\")\n",
    "\n",
    "    # Extract the text of each review\n",
    "    review_texts = [review.get_text() for review in reviews]\n",
    "\n",
    "    return review_texts\n",
    "\n",
    "def get_imdb_id(movie_title):\n",
    "    # Create an instance of the IMDb class\n",
    "    ia = IMDb()\n",
    "\n",
    "    # Search for a movie by title\n",
    "    results = ia.search_movie(movie_title)\n",
    "\n",
    "    # Return the IMDb ID of the first result, if available\n",
    "    if results:\n",
    "        return results[0].movieID\n",
    "    else:\n",
    "        return None"
   ]
  },
  {
   "cell_type": "code",
   "execution_count": 7,
   "id": "4da80e46-599c-4760-9f88-60d28edb76fc",
   "metadata": {},
   "outputs": [],
   "source": [
    "movie_titles = [\n",
    "    \"The Shawshank Redemption\",\n",
    "    \"The Godfather\",\n",
    "    \"The Dark Knight\",\n",
    "    \"The Godfather: Part II\",\n",
    "    \"12 Angry Men\",\n",
    "    \"Schindler's List\",\n",
    "    \"The Lord of the Rings: The Return of the King\",\n",
    "    \"Pulp Fiction\",\n",
    "    \"The Lord of the Rings: The Fellowship of the Ring\",\n",
    "    \"The Good, the Bad and the Ugly\",\n",
    "    \"Forrest Gump\",\n",
    "    \"The Lord of the Rings: The Two Towers\",\n",
    "    \"Fight Club\",\n",
    "    \"Inception\",\n",
    "    \"Star Wars: Episode V - The Empire Strikes Back\",\n",
    "    \"The Matrix\",\n",
    "    \"GoodFellas\",\n",
    "    \"One Flew Over the Cuckoo's Nest\",\n",
    "    \"Se7en\",\n",
    "    \"Interstellar\"\n",
    "]\n",
    "\n",
    "all_reviews = []\n",
    "\n",
    "for title in movie_titles:\n",
    "    imdb_id = get_imdb_id(title)\n",
    "    reviews = scrape_imdb_reviews(imdb_id)[:25]  # Get 25 reviews per movie\n",
    "    all_reviews.append((title, reviews))"
   ]
  },
  {
   "cell_type": "code",
   "execution_count": 10,
   "id": "88e6a2a2-21ee-41a3-86f8-e091d86466a9",
   "metadata": {},
   "outputs": [
    {
     "name": "stderr",
     "output_type": "stream",
     "text": [
      "Token indices sequence length is longer than the specified maximum sequence length for this model (1343 > 512). Running this sequence through the model will result in indexing errors\n"
     ]
    }
   ],
   "source": [
    "sentiment_reviews = []\n",
    "\n",
    "for title, reviews in all_reviews:\n",
    "    for review in reviews:\n",
    "        sentiment, _ = get_sentiment(review)  # Assuming get_sentiment returns sentiment and runtime\n",
    "        sentiment_reviews.append((title, review, sentiment))"
   ]
  },
  {
   "cell_type": "code",
   "execution_count": 11,
   "id": "bedfbb15-b530-47e7-9515-c722b0ae3960",
   "metadata": {},
   "outputs": [],
   "source": [
    "from collections import defaultdict\n",
    "\n",
    "grouped_reviews = defaultdict(lambda: {\"positive\": [], \"negative\": []})\n",
    "\n",
    "for title, review, sentiment in sentiment_reviews:\n",
    "    grouped_reviews[title][sentiment].append(review)"
   ]
  },
  {
   "cell_type": "code",
   "execution_count": 12,
   "id": "7898d698-4769-4e1f-9e76-21479c704ccc",
   "metadata": {},
   "outputs": [
    {
     "data": {
      "text/plain": [
       "[\"Can Hollywood, usually creating things for entertainment purposes only, create art?  To create something of this nature, a director must approach it in a most meticulous manner, due to the delicacy of the process.  Such a daunting task requires an extremely capable artist with an undeniable managerial capacity and an acutely developed awareness of each element of art in their films, the most prominent; music, visuals, script, and acting. These elements, each equally important, must succeed independently, yet still form a harmonious union, because this mixture determines the fate of the artist's opus.  Though already well known amongst his colleagues for his notable skills at writing and directing, Frank Darabont emerges with his feature film directorial debut, The Shawshank Redemption.  Proving himself already a master of the craft, Darabont managed to create one of the most recognizable independent releases in the history of Hollywood.  The Shawshank Redemption defines a genre, defies the odds, compels the emotions, and brings an era of artistically influential films back to Hollywood.The story begins with the trial of a young banker, Andy Dufrense, victimized by circumstantial evidence, resulting in a conviction for the murder of his wife and her lover.  After a quick conviction, Andy finds himself serving a life sentence at Shawshank prison, with no hope of parole.  He exists in this prison only in appearance, keeping his mind free from the drab walls around him.  His ability to do this results in the gaining of respect from his fellow inmates, but most of all from Ellis Redding.  Ellis, commonly referred to as Red, finds gainful use of his entrepreneurial spirit within the drab walls of Shawshank by dealing in contraband and commodities rare to the confines of prison.  Andy's demeanor and undeniable sense of hope causes Red to take a deeper look at himself, and the world around him.  Andy proves to Red and the other inmates that in the conventional walls of Shawshank prison convention will find no home in his lifestyle.By creating the film's firm foundation, the meticulously chiseled screenplay paved the way for this film's success.  Frank Darabont outdoes himself with the phenomenal adaptation of Stephen King's equally noteworthy novella, Rita Hayworth and Shawshank Redemption.  In this novella, King demonstrates that he can break free from the genre he dominates and still create a marvelous piece of modern literature.  Though the film mirrors the novella in many ways, Darabont illustrates a focused objective of improving upon the areas where the novella came up short, resulting in one of the best book to film transitions ever.While maintaining some of the poetic and moving dialogue of the novella, Darabont also proves that a film's score can generate a great deal of emotional response from its audience, as dialogue does.  He employs the cunning Thomas Newman, son of the legendary Hollywood composer, Alfred Newman.  Darabont shows recognition for the film's needs by employing Newman, who makes the gentle piano chords whisper softly to the viewer, as if a part of the scripted dialogue.  Newman lends himself to individualism and tends to drive more towards the unique in the realm of score composition.  His effort in Shawshank did not go unnoticed, as his score received an Oscar nomination in 1995.  While unique and independent, Newman's score never once intrudes on your concentration or distracts from the film.With work from vast array of talented scene designers, costume designers, composers, cinematographers, and various other Hollywood artists, the cast of The Shawshank Redemption had a strong foundation to work with.  The marvelous cast of this film will dazzle you with some of the most convincing performances you will witness in a film.  While both Tim Robbins and Morgan Freeman shine as Andy and Red, respectively, the true spectacle of acting lies within the plethora of amazing supporting actors who easily disappear into their roles.  Most noticeable of these, the veteran film star James Whitmore, who portrays the elderly Brooks Hatlen.  Brooks, a man incarcerated for an unmentioned crime for so long that he finds himself attached to the Shawshank and the daily life he has lead.  Each of these actors show a true dedication to their art, and a focused purpose in their motivations, creating a convincing setting that never once caters to anything unbelievable.With all of the aesthetic touches and attention to cinematic detail, the most beautiful part of the film lies within its thematic material, such as its focus on the human desires for the most abstract concepts, like hope and freedom.  These themes, which concern things the human spirit undoubtedly yearns for, seem so intricately woven into the plot that it easily draws its audience in to its story.  Though full of hardened criminals, your heart will go out to these men as they display the most basic of human emotions, and deliver some of the most quotable lines in a film to date.  Like a great novel, this film manages to succeed at greater things than simply entertaining an audience.  Darabont tells his story most masterfully, illustrating principles and inspiring his audience to think.  He leaves us a poignant film with a powerful message of hope, and redemption, something we all seek.This film manages to redeem Hollywood in the eyes of people who feared it long lost in a dark sea of clichés and predictability.  Darabont shows us that artists still work in the Hollywood studios and production facilities. These artists show their capability to produce art; real art that inspires you to look at the deeper aspects of life and the world around you.  The Shawshank Redemption delivers much-needed breath of fresh air for anyone who realizes the capability of film.  It proves that masters of the craft still live on this earth, and still bless us with timeless masterpieces that we will never forget.\",\n",
       " \"I have never seen such an amazing film since I saw The Shawshank Redemption. Shawshank encompasses friendships, hardships, hopes, and dreams.  And what is so great about the movie is that it moves you, it gives you hope.  Even though the circumstances between the characters and the viewers are quite different, you don't feel that far removed from what the characters are going through.It is a simple film, yet it has an everlasting message.  Frank Darabont didn't need to put any kind of outlandish special effects to get us to love this film, the narration and the acting does that for him.  Why this movie didn't win all seven Oscars is beyond me, but don't let that sway you to not see this film, let its ranking on the IMDb's top 250 list sway you, let your friends recommendation about the movie sway you.Set aside a little over two hours tonight and rent this movie.  You will finally understand what everyone is talking about and you will understand why this is my all time favorite movie.\",\n",
       " 'In its Oscar year, Shawshank Redemption (written and directed by Frank Darabont, after the novella Rita Hayworth and the Shawshank Redemption, by Stephen King) was nominated for seven Academy Awards, and walked away with zero. Best Picture went to Forrest Gump, while Shawshank and Pulp Fiction were \"just happy to be nominated.\" Of course hindsight is 20/20, but while history looks back on Gump as a good film, Pulp and Redemption are remembered as some of the all-time best. Pulp, however, was a success from the word \"go,\" making a huge splash at Cannes and making its writer-director an American master after only two films. For Andy Dufresne and Co., success didn\\'t come easy. Fortunately, failure wasn\\'t a life sentence.After opening on 33 screens with take of $727,327, the $25M film fell fast from theatres and finished with a mere $28.3M. The reasons for failure are many. Firstly, the title is a clunker. While iconic to fans today, in 1994, people knew not and cared not what a \\'Shawshank\\' was. On the DVD, Tim Robbins laughs recounting fans congratulating him on \"that \\'Rickshaw\\' movie.\" Marketing-wise, the film\\'s a nightmare, as \\'prison drama\\' is a tough sell to women, and the story of love between two best friends doesn\\'t spell winner to men. Worst of all, the movie is slow as molasses. As Desson Thomson writes for the Washington Post, \"it wanders down subplots at every opportunity and ignores an abundance of narrative exit points before settling on its finale.\" But it is these same weaknesses that make the film so strong.Firstly, its setting. The opening aerial shots of the prison are a total eye-opener. This is an amazing piece of architecture, strong and Gothic in design. Immediately, the prison becomes a character. It casts its shadow over most of the film, its tall stone walls stretching above every shot. It towers over the men it contains, blotting out all memories of the outside world. Only Andy (Robbins) holds onto hope. It\\'s in music, it\\'s in the sandy beaches of Zihuatanejo; \"In here\\'s where you need it most,\" he says. \"You need it so you don\\'t forget. Forget that there are places in the world that aren\\'t made out of stone. That there\\'s a - there\\'s a - there\\'s something inside that\\'s yours, that they can\\'t touch.\" Red (Morgan Freeman) doesn\\'t think much of Andy at first, picking \"that tall glass o\\' milk with the silver spoon up his ass\" as the first new fish to crack. Andy says not a word, and losing his bet, Red resents him for it. But over time, as the two get to know each other, they quickly become the best of friends. This again, is one of the film\\'s major strengths. Many movies are about love, many flicks have a side-kick to the hero, but Shawshank is the only one I can think of that looks honestly at the love between two best friends. It seems odd that Hollywood would skip this relationship time and again, when it\\'s a feeling that weighs so much into everyone\\'s day to day lives. Perhaps it\\'s too sentimental to seem conventional, but Shawshank\\'s core friendship hits all the right notes, and the film is much better for it.It\\'s pacing is deliberate as well. As we spend the film watching the same actors, it is easy to forget that the movie\\'s timeline spans well over 20 years. Such a huge measure of time would pass slowly in reality, and would only be amplified in prison. And it\\'s not as if the film lacks interest in these moments. It still knows where it\\'s going, it merely intends on taking its sweet time getting there. It pays off as well, as the tedium of prison life makes the climax that much more exhilarating. For anyone who sees it, it is a moment never to be forgotten.With themes of faith and hope, there is a definite religious subtext to be found here. Quiet, selfless and carefree, Andy is an obvious Christ figure. Warden Norton (Bob Gunton) is obviously modeled on Richard Nixon, who, in his day, was as close to a personified Satan as they come. But if you aren\\'t looking for subtexts, the movie speaks to anyone in search of hope. It is a compelling drama, and a very moving film, perfectly written, acted and shot. They just don\\'t come much better than this.OVERALL SCORE: 9.8/10 = A+ The Shawshank Redemption served as a message of hope to Hollywood as well. More than any film in memory, it proved there is life after box office. Besting Forrest and Fiction, it ran solely on strong word of mouth and became the hottest rented film of 1995. It currently sits at #2 in the IMDb\\'s Top 250 Films, occasionally swapping spots with The Godfather as the top ranked film of all time -- redemption indeed. If you haven\\'t seen it yet, what the hell are you waiting for? As Andy says, \"It comes down a simple choice, really. Either get busy living, or get busy dying.\"',\n",
       " 'I believe that this film is the best story ever told on film, and I\\'m about to tell you why.Tim Robbins plays Andy Dufresne, a city banker, wrongfully convicted of murdering his wife and her lover. He is sent to Shawshank Prison in 1947 and receives a double life sentence for the crime. Andy forms an unlikely friendship with \"Red\" (Morgan Freeman), the man who knows how to get things. Andy faces many trials in prison, but forms an alliance with the wardens because he is able to use his banking experience to help the corrupt officials amass personal fortunes. The story unfolds....I was so impressed with how every single subplot was given a great deal of respect and attention from the director. The acting was world-class. I have never seen Tim Robbins act as well since, Morgan Freeman maybe (e.g. Seven). The twists were unexpected, an although this film had a familiar feel, it wasn\\'t even slightly pretentious or cliched, it was original. The cinematography was grand and expressive. It gave a real impression of the sheer magnitude of this daunting prison.But the one thing which makes THE SHAWSHANK REDEMPTION stand above all other films, is the attention given to the story. The film depends on the story and the way in which it unravels. It\\'s a powerful, poignant, thought-provoking, challenging film like no other. If Andy were to comment on this film, I think he might say: \"Get busy watching, or get busy dying.\" Take his advice.Thoroughly recommended.',\n",
       " 'The reason I became a member of this database is because I finally  found a movie ranking that recognized the true greatness of this movie. There  is nary a word or scene out of place in the entire thing. Every element  comes together to form an exquisite story for cinema.   I believe that one reason that this movie is under-appreciated is that  people have not seen it multiple times. On first viewing it is the story of  Andy Dufresne and his struggle to maintain hope despite his circumstances.   However, this is really a movie about Red and his struggle to find  meaning and purpose. The final segment of the movie testifies to the fact that the final resolution of the story comes about only when Red is faced with the same fearful situation as Brooks. Because of Andy, Red can find a different path-the path of freedom that is lit by hope.  Who is your Andy Dufresne?',\n",
       " 'The Shawshank Redemption is written and directed by Frank Darabont. It is an adaptation of the Stephen King novella Rita Hayworth and Shawshank Redemption. Starring Tim Robbins and Morgan Freeman, the film portrays the story of Andy Dufresne (Robbins), a banker who is sentenced to two life sentences at Shawshank State Prison for apparently murdering his wife and her lover. Andy finds it tough going but finds solace in the friendship he forms with fellow inmate Ellis \"Red\" Redding (Freeman). While things start to pick up when the warden finds Andy a prison job more befitting his talents as a banker. However, the arrival of another inmate is going to vastly change things for all of them.There was no fanfare or bunting put out for the release of the film back in 94, with a title that didn\\'t give much inkling to anyone about what it was about, and with Columbia Pictures unsure how to market it, Shawshank Redemption barely registered at the box office. However, come Academy Award time the film received several nominations, and although it won none, it stirred up interest in the film for its home entertainment release. The rest, as they say, is history. For the film finally found an audience that saw the film propelled to almost mythical proportions as an endearing modern day classic. Something that has delighted its fans, whilst simultaneously baffling its detractors. One thing is for sure, though, is that which ever side of the Shawshank fence you sit on, the film continues to gather new fans and simply will never go away or loose that mythical status.It\\'s possibly the simplicity of it all that sends some haters of the film into cinematic spasms. The implausible plot and an apparent sentimental edge that makes a nonsense of prison life, are but two chief complaints from those that dislike the film with a passion. Yet when characters are this richly drawn, and so movingly performed, it strikes me as churlish to do down a human drama that\\'s dealing in hope, friendship and faith. The sentimental aspect is indeed there, but that acts as a counterpoint to the suffering, degradation and shattering of the soul involving our protagonist. Cosy prison life you say? No chance. The need for human connection is never more needed than during incarceration, surely? And given the quite terrific performances of Robbins (never better) & Freeman (sublimely making it easy), it\\'s the easiest thing in the world to warm to Andy and Red.Those in support aren\\'t faring too bad either. Bob Gunton is coiled spring smarm as Warden Norton, James Whitmore is heart achingly great as the \"Birdman Of Shawshank,\" Clancy Brown is menacing as antagonist Capt. Byron Hadley, William Sadler amusing as Heywood & Mark Rolston is impressively vile as Bogs Diamond. Then there\\'s Roger Deakins\\' lush cinematography as the camera gracefully glides in and out of the prison offering almost ethereal hope to our characters (yes, they are ours). The music pings in conjunction with the emotional flow of the movie too. Thomas Newman\\'s score is mostly piano based, dovetailing neatly with Andy\\'s state of mind, while the excellently selected soundtrack ranges from the likes of Hank Williams to the gorgeous Le Nozze di Figaro by Mozart.If you love Shawshank then it\\'s a love that lasts a lifetime. Every viewing brings the same array of emotions - anger - revilement - happiness - sadness - inspiration and a warmth that can reduce the most hardened into misty eyed wonderment. Above all else, though, Shawshank offers hope - not just for characters in a movie - but for a better life and a better world for all of us. 10/10.',\n",
       " 'I\\'m trying to save you money; this is the last film title that you should consider borrowing. Renting Shawshank will cost you five bucks... just plunk down the $25 and own the title. You\\'ll wind up going back to this gem time and time again. This is one of few movies that are truly timeless. And it\\'s entertaining and moving, no matter how many times you view it.Forget about what others (including myself) might suggest you\\'ll discover in \"The Shawshank Redemption;\" when you watch it, you\\'ll identify something very personal in your own life with a scene, a character, or a moment in this uncomplicated movie. When you need hope, you\\'ll look for Shawshank. When you want to believe in the will of overcoming even the greatest obstacles, Shawshank will uplift you in ways that you can\\'t find in movies today. Some liken the film to some kind of spiritual awakening. Of course, some can go to a church or mosque to find enlightenment and Faith in humanity, but most places of worship are open only certain days or times. But when you need affirmation of the lasting bond of friendships that prevail over the most dire circumstances, Shawshank will give it to you. It makes grown men (like me) cry, still. I wonder whether Shawshank was truly meant for viewing in the privacy of the home, because it is a personal experience that really makes you look inward. Nominated for seven, this is the best film that never one a single Oscar. How ironic that an innocent man winds up being surrounded by the corruption of the legal system. Shawshank itself is similar to the character of Andy Dufresne. Prejudging this classic film, critics couldn\\'t get past the title. The public followed suit, initially dismissing Shawshank, which failed in the box office just like \"It\\'s a Wonderful Life\" and \"Citizen Kane.\" It could have just whithered away on the store shelves, like Andy Dufresne could have in his own cell. But the characters prevailed, because Andy -- And Shawshank -- stayed true. Now, these movies are right up there as the most popular films of all time. Anyone who has yet to watch Shawshank may be so jaded of movies, or the film\\'s title, or how a 2-1/2- hour movie set inside the walls of a prison can manage to tap the soul of such a wide range of people. Shawshank has not one explosion. I wonder if it even has a single special effect or digitally- enhanced frame. But every aspect of Shawshank fit together. The acting from the top to the bit part. The musical score. The editing. The photography. The story, from opening credits to final scene. All involved, including the town of Mansfield, Ohio (where Shawshank was actually filmed) played their roles perfectly. Shawshank is a must- see, must- own title.',\n",
       " 'This movie is not your ordinary Hollywood flick. It has a great and deep message. This movie has a foundation and just kept on being built on from their and that foundation is hope.Other than just the message of this movie the acting was phenomenal. Tim Robbins gave one of the greatest performances ever. He was inspiring, intelligent and most of all positive. His performance just made me smile. Robbins plays Andy Dufresne who was wrongfully convicted of murdering his wife and her lover. He is gets to life sentences but yet never gives up hope. In he becomes friends with Ellis Boyd \"Red\" Redding played by Morgan Freeman. Freeman who gives the finest performance of his career has unlike Robbins lost hope. He is in deep regret of the crime that he committed. His way of deflecting the pain away is by trying to not feel anything at all. With his friendship with Andy he learns that without our hopes and dreams we have nothing. Andy also becomes friends with the rest of Red\\'s group. James Whitmore also gave a great performance as Brooks Halten who gets out of prison parole but in the words of Red he has been \"institutionalized\". The directing by Frank Darabont was just magnificent. He kept this movie at a great steady pace along with the writing and great cinematography. He portrayed prison life in such a horrifying way, but not in terms of the physical pain but the stress and pain that wares mentally on the inmates, some of which deserve a second chance. Whatever you do, don\\'t listen to the people who say this movie is overrated because this is one of the most inspiring and greatest movies ever. It has everything you could possibly want.',\n",
       " 'One of the finest films made in recent years. It\\'s a poignant story about hope. Hope gets me. That\\'s what makes a film like this more than a movie. It tells a lesson about life. Those are the films people talk about 50 or even 100 years from you. It\\'s also a story for freedom. Freedom from isolation, from rule, from bigotry and hate. Freeman and Robbins are majestic in their performances. Each learns from the other. Their relationship is strong and you feel that from the first moment they make contact with one another. There is also a wonderful performance from legend James Whitmore as Brooks.He shines when it is his time to go back into the world, only to find that the world grew up so fast he never even got a chance to blink. Stephen King\\'s story is brought to the screen with great elegance and excitement. It is an extraordinary motion that people \"will\" be talking about in 50 or 100 years.',\n",
       " \"Misery and Stand By Me were the best adaptations up until this one, now you can add Shawshank to that list.This is simply one of the best films ever made and I know I am not the first to say that and I certainly won't be the last. The standing on the IMDb is a true barometer of that. #3 as of this date and I'm sure it could be number 1. So I'll just skip all the normal praise of the film because we all know how great it is. But let me perhaps add that what I find so fascinating about Shawshank is that Stephen King wrote it.King is one of the best writers in the world. Books like IT and the Castle Rock series are some of the greatest stories ever told. But his best adaptations are always done by the best directors. The Shining was brilliantly interpreted by Kubrick and of course the aforementioned Misery and Stand By Me are both by Rob Reiner. Now Frank Darabont comes onto the scene and makes arguably the best King film ever. He seems to understand what King wants to say and he conveys that beautifully. What makes this film one of the best ever made is the message it conveys. It is one of eternal hope. Andy Dufresne, played by Tim Robbins, has been sent to prison for a crime he did not commit. But he never loses hope. He never gives up his quest to become a free man again. His years of tenacity, patience and wits keep him not only sane, but it gives his mind and a spirit a will to live. This film has a different feel to it. There has never been anything like it before and I don't know if there will again.I'm not going to say any more about this film, it has already been said, but just suffice to say that I am glad that Forrest Gump won best picture in 94. I would have been equally glad if Pulp Fiction or Shawshank would have won. It is that good of a movie and one that will be appreciated for years to come.\",\n",
       " 'The Shawshank Redemption is without a doubt one of the most brilliant movies I have ever seen. Similar to The Green Mile in many respects (and better than it in almost all of them), these two movies have shown us that Stephen King is a master not only of horror but also of prose that shakes the soul and moves the heart. The plot is average, but King did great things with it in his novella that are only furthered by the direction, and the acting is so top-rate it\\'s almost scary.Tim Robbins plays Andy Dufrane, wrongly imprisoned for 20 years for the murder of his wife. The story focuses on Andy\\'s relationship with \"Red\" Redding (Morgan Freeman, in probably his best role) and his attempts to escape from Shawshank. Bob Gunton is positively evil and frightening as Warden Norton, and there are great performances and cameos all around; the most prominent one being Gil Bellows (late as Billy of Ally McBeal) as Tommy, a fellow inmate of Andy\\'s who suffers under the iron will of Norton.If you haven\\'t seen this movie, GO AND RENT IT NOW. You will not be disappointed. It is positively the best movie of the \\'90\\'s, and one of my Top 3 of all time. This movie is a spectacle to move the mind, soul, and heart. 10/10',\n",
       " 'Whenever I talk about this movie with my friends, I do not even refer to it by title, but rather as \"The Movie\".  When I say \"The Movie\", my friends know exactly what I\\'m talking about.  In fact the main reason that me and my friends don\\'t refer to it by title is because this movie is so great, that we do not feel worthy enough to say it\\'s name in vain! I still remember the first time I saw The Shawshank Redemption.  Some friends of mine and I went to see it at one of those \"Budget Theaters\" over the summer of 1995.  None of us really knew anything about the movie, but we had heard that it was pretty good.  So, not having any real expectations, we saw it.  When the final credits rolled and the lights came on in the theater, all of us just sat there with our jaws hanging down on the floor. I turned my head towards my friend Bob and said \"That was the greatest movie I have ever seen in my entire life!\" There\\'s really no other way I can put it in words.  Every moment of this movie captivated me and inspired me to believe in the one true thing in life...... \"HOPE\".  This movie is sad, uplifting, inspiring, harsh, cold, funny (at the right times), jaw-dropping, and heart-warming all at the same time.  I get chills every time I watch this film and this film contains the greatest ending (which takes place over the last 30 minutes or so)in movie history!  How it all just \"comes together\" is so incredible and uplifting. I should also mention the music in this movie is nearly flawless as well, and the soundtrack is a \"must buy\" for any music fan. The only bad thing about this movie is the fact that I know I will never see a better movie, no matter how many I may see.  I\\'ve seen many movies over the past few years, many excellent films.  However, every time I walk out of the theater, I turn to my friend or family member that I saw it with and I say, \"That was a great movie, but it wasn\\'t nearly as good as \\'you know what\\'!\"  There have been many movies over the past few years that thought would really move me or that I might one day call my \"favorite of all time\", but they\\'ve all fallen far short of \"The Shawshank Redemption\". So, if you have yet to see this movie, please run to the video store immediately.  You\\'re guaranteed to find it in the \"employee picks\" section. And if it isn\\'t in that section, then you should tell the employees there that there is something seriously wrong with them.  If you have seen this movie, go see it again.  If you haven\\'t bought your own copy yet, buy one. In fact buy two, and put one in a fire-proof safe, just in case of an emergency. :o) So, you want a 1-10 rating???  I give it a 13!!!!!!',\n",
       " 'Shawshank is on TNT approximately five million times a year. It is the second-highest rated film on IMDb, and it was nominated for seven Oscars. It is a movie that can make grown men cry. Morgan Freeman and Tim Robbins deliver great performances. Thomas Newman\\'s original score is beautiful. It\\'s an engaging film about perseverance, friendship, will power, and hope.But then again, does it really belong in the same company as Godfather, Godfather II, Schindler\\'s List, and other consensus top-ten films? Is it really one of the ten best films of all time? First off, the villain of the film, Warden Norton, is an incredibly cartoonish, two dimensional bad guy. He and Cal from Titanic could have a \"pure-evil-for-the-sake-of-being-pure-evil\" standoff. Aside from greed, we have no idea what made him who he was. The Warden is pure evil, and is willing to kill the prisoner who can help prove Andy\\'s innocence in cold blood. And yet, even though Andy is the one man who could expose him and all his criminal dealings, he doesn\\'t do the simplest thing and just kill Andy. Why not? Because Andy has to wind up hugging Red on the beach years later.Secondly, think about the scene where Andy locks himself in a room and plays classical music over the loudspeakers to the rest of the prisoners, who stop in the courtyard and stare up in awe and wonder. Are you kidding me? The scene tries to be a powerful, emotional peak in the film, but it comes off as laughably implausible, even in the 1950\\'s.Finally, the movie makes it a little too easy on the audience by giving it all the answers. Is Andy guilty? Does he really escape? Will he and Red ever meet up again? Nothing is left for the audience to wonder about, no ambiguity — everything is spoon-fed to the audience in tasty, happy-ending bites, right up to the final \"hug on the beach\" scene. Wait\\x85 this movie ends with happy people hugging on a beach? Yes it does.',\n",
       " \"It is no wonder that the film has such a high rating, it is quite literally breathtaking. What can I say that hasn't said before? Not much, it's the story, the acting, the premise, but most of all, this movie is about how it makes you feel. Sometimes you watch a film, and can't remember it days later, this film loves with you, once you've seen it, you don't forget.The ultimate story of friendship, of hope, and of life, and overcoming adversity.I understand why so many class this as the best film of all time, it isn't mine, but I get it. If you haven't seen it, or haven't seen it for some time, you need to watch it, it's amazing. 10/10.\",\n",
       " 'In recent years the IMDB top 250 movies has had THE GODFATHER at number 1 while THE SHAWSHANK REDEMPTION has remained at number 2 . The only exception was early in 2002 when FELLOWSHIP OF THE RING topped the chart for a couple of months then dropped down to number 2 for a couple of more months . I`ll probably make myself very unpopular for saying this but I don`t think SHAWSHANK REDEMPTION deserves to be so high !!!!!! SPOILERS !!!!!!What I don`t like about it is the amount of cliches . New prisoner arrives and finds a maggot in his food , prison cliche 37 . New prisoner gives maggot to old prisoner to feed his pet bird , prison cliche 43 . It`s revealed at the end that the prisoner who has spent so many years inside is innocent after all , prison cliche numero uno . Did anyone believe during any part of this movie that Andy Dufresne was guilty ? Neither did I . Maybe that`s why I love the American prison series OZ because all the inmates there are totally guilty . There`s other things wrong with the movie . It`s about half an hour overlong , and there`s rather unrealistic bits like the warder having someone killed after finding out Dufresne is probably innocent. Oh and how many prison friendships has there been between a black man and a white man ? Maybe that last point shouldn`t be taken as a criticism because the performances of Morgan Freeman and Tim Robbins are very good and make the movie . Neither of them give a flashy performance ( Again not a criticism ) but both are very subtle in their roles , can you imagine how different this movie would have been if we`d had Tom Cruise and Denzil Washington as the stars ? Perhaps because Freeman`s character of Red does seem to have been written as a white character he`s so good in the role . Am I alone in thinking Freeman has been the best black actor in Hollywood for the last decade because he`s more interested in exploring the character instead of playing someone who`s black ? There`s also some outstanding touches from director Frank Darabont . Witness the scene early in the film where Andy spends his first night in prison with the darkness falling upon the prisoners faces . It`s almost like the artwork of Andy Dogg as the prisoners look out onto the landing as they search for fresh prey , and there is quite a touching sequence as Red leaves prison out into the harsh outside world to the strains of Thomas Newman`s scoreI gave THE SHAWSHANK REDEMPTION eight out of ten . It is a classic feel good movie but unfortunately being a cynic I do think it`s slightly overrated by IMDB voters']"
      ]
     },
     "execution_count": 12,
     "metadata": {},
     "output_type": "execute_result"
    }
   ],
   "source": [
    "grouped_reviews[\"The Shawshank Redemption\"][\"positive\"]"
   ]
  },
  {
   "cell_type": "code",
   "execution_count": 8,
   "id": "6006a791-5dbd-4442-9f85-5a2a96a59620",
   "metadata": {},
   "outputs": [
    {
     "data": {
      "application/vnd.jupyter.widget-view+json": {
       "model_id": "b2922c21b28b457f95060285d8ec2edb",
       "version_major": 2,
       "version_minor": 0
      },
      "text/plain": [
       "tokenizer_config.json:   0%|          | 0.00/1.61k [00:00<?, ?B/s]"
      ]
     },
     "metadata": {},
     "output_type": "display_data"
    },
    {
     "data": {
      "application/vnd.jupyter.widget-view+json": {
       "model_id": "fa9e9b9e83b349c583f10829b55bc31c",
       "version_major": 2,
       "version_minor": 0
      },
      "text/plain": [
       "spiece.model:   0%|          | 0.00/1.91M [00:00<?, ?B/s]"
      ]
     },
     "metadata": {},
     "output_type": "display_data"
    },
    {
     "data": {
      "application/vnd.jupyter.widget-view+json": {
       "model_id": "8f82e9b961a74a3697b051cf60618ed7",
       "version_major": 2,
       "version_minor": 0
      },
      "text/plain": [
       "special_tokens_map.json:   0%|          | 0.00/1.34k [00:00<?, ?B/s]"
      ]
     },
     "metadata": {},
     "output_type": "display_data"
    },
    {
     "data": {
      "application/vnd.jupyter.widget-view+json": {
       "model_id": "b96e714209e24a0db6dcb8f3bba8c3e1",
       "version_major": 2,
       "version_minor": 0
      },
      "text/plain": [
       "config.json:   0%|          | 0.00/1.42k [00:00<?, ?B/s]"
      ]
     },
     "metadata": {},
     "output_type": "display_data"
    },
    {
     "data": {
      "application/vnd.jupyter.widget-view+json": {
       "model_id": "458951d427a3498c98dc273bffa90394",
       "version_major": 2,
       "version_minor": 0
      },
      "text/plain": [
       "pytorch_model.bin:   0%|          | 0.00/2.28G [00:00<?, ?B/s]"
      ]
     },
     "metadata": {},
     "output_type": "display_data"
    }
   ],
   "source": [
    "from transformers import PegasusForConditionalGeneration, PegasusTokenizer\n",
    "\n",
    "pegasus_sum = 'tuner007/pegasus_summarizer'\n",
    "torch_device = 'cuda' if torch.cuda.is_available() else 'cpu'\n",
    "pegasus_tokenizer = PegasusTokenizer.from_pretrained(pegasus_sum)\n",
    "pegasus_model = PegasusForConditionalGeneration.from_pretrained(pegasus_sum).to(torch_device)\n",
    "\n",
    "def get_response(input_text):\n",
    "  batch = pegasus_tokenizer([input_text],truncation=True,padding='longest',max_length=1024, return_tensors=\"pt\").to(torch_device)\n",
    "  gen_out = pegasus_model.generate(**batch,max_length=128,num_beams=5, num_return_sequences=1, temperature=1.5)\n",
    "  output_text = pegasus_tokenizer.batch_decode(gen_out, skip_special_tokens=True)\n",
    "  return output_text"
   ]
  },
  {
   "cell_type": "code",
   "execution_count": 10,
   "id": "429cce37-2de8-4c99-a042-d90d02733b87",
   "metadata": {},
   "outputs": [],
   "source": [
    "example = \"\"\"I have never seen such an amazing film since I saw The Shawshank Redemption. Shawshank encompasses friendships, hardships, hopes, and dreams.  And what is so great about the movie is that it moves you, it gives you hope.  Even though the circumstances between the characters and the viewers are quite different, you don't feel that far removed from what the characters are going through.It is a simple film, yet it has an everlasting message.  Frank Darabont didn't need to put any kind of outlandish special effects to get us to love this film, the narration and the acting does that for him.  Why this movie didn't win all seven Oscars is beyond me, but don't let that sway you to not see this film, let its ranking on the IMDb's top 250 list sway you, let your friends recommendation about the movie sway you.Set aside a little over two hours tonight and rent this movie.  You will finally understand what everyone is talking about and you will understand why this is my all time favorite movie.\"\"\""
   ]
  },
  {
   "cell_type": "code",
   "execution_count": 11,
   "id": "aa9bdeb5-a8ca-4719-a89a-1c503f27c457",
   "metadata": {},
   "outputs": [
    {
     "data": {
      "text/plain": [
       "[\"Frank Darabont's 'The Shawshank Redemption' is one of the best films of all time. It's a simple film, yet it has an everlasting message. Darabont didn't need to put any kind of outlandish special effects to get us to love this film, the narration and the acting does that for him. Why this movie didn't win all seven Oscars is beyond me.\"]"
      ]
     },
     "execution_count": 11,
     "metadata": {},
     "output_type": "execute_result"
    }
   ],
   "source": [
    "get_response(example)"
   ]
  },
  {
   "cell_type": "code",
   "execution_count": null,
   "id": "4be740cb-4f72-44b0-934f-c6ac96c6a05d",
   "metadata": {},
   "outputs": [],
   "source": [
    "summarized_reviews = []\n",
    "\n",
    "for title, sentiments in grouped_reviews.items():\n",
    "    for sentiment, reviews in sentiments.items():\n",
    "        combined_text = \" \".join(reviews)\n",
    "        # Use a tool or ChatGPT to summarize combined_text\n",
    "        summary = summarize_text(combined_text)  # Replace with your summarization method\n",
    "        summarized_reviews.append((title, sentiment, summary))\n"
   ]
  },
  {
   "cell_type": "markdown",
   "id": "75f34b70-09ee-4347-8692-4e148700be95",
   "metadata": {},
   "source": [
    "## Langchain for summarization"
   ]
  },
  {
   "cell_type": "code",
   "execution_count": 78,
   "id": "22989dc9-7368-4138-b0c2-100fa3c97921",
   "metadata": {},
   "outputs": [],
   "source": [
    "# Move models to the appropriate device\n",
    "device = torch.device('cuda' if torch.cuda.is_available() else 'cpu')\n",
    "peft_model.to(device)\n",
    "\n",
    "# Function to summarize text\n",
    "def summarize_text(text):\n",
    "    input_text = \"Summarize the following movie review: \" + text\n",
    "    input_ids = tokenizer_peft(input_text, return_tensors=\"pt\").input_ids.to(device)\n",
    "    outputs = peft_model.generate(input_ids, max_length=150, min_length=40, length_penalty=2.0, num_beams=4, early_stopping=True)\n",
    "    summary = tokenizer_peft.decode(outputs[0], skip_special_tokens=True)\n",
    "    \n",
    "    return summary\n",
    "\n",
    "# Function to chunk reviews respecting the token limit\n",
    "def chunk_reviews(reviews, tokenizer, max_length):\n",
    "    chunks = []\n",
    "    current_chunk = \"\"\n",
    "    current_length = 0\n",
    "\n",
    "    for review in reviews:\n",
    "        review_length = len(tokenizer.tokenize(review))\n",
    "        if review_length > max_length:\n",
    "            # If a single review exceeds the max length, split it\n",
    "            review_chunks = [review[i:i + max_length] for i in range(0, len(review), max_length)]\n",
    "            chunks.extend(review_chunks)\n",
    "        else:\n",
    "            # Check if adding this review to the current chunk would exceed the max length\n",
    "            if current_length + review_length > max_length:\n",
    "                # Save the current chunk and start a new one\n",
    "                if current_chunk:\n",
    "                    chunks.append(current_chunk)\n",
    "                current_chunk = review\n",
    "                current_length = review_length\n",
    "            else:\n",
    "                # Add the review to the current chunk\n",
    "                if current_chunk:\n",
    "                    current_chunk += \" \" + review\n",
    "                else:\n",
    "                    current_chunk = review\n",
    "                current_length += review_length\n",
    "\n",
    "    # Add the last chunk if it exists\n",
    "    if current_chunk:\n",
    "        chunks.append(current_chunk)\n",
    "    \n",
    "    return chunks"
   ]
  },
  {
   "cell_type": "code",
   "execution_count": 79,
   "id": "5d169980-d8a7-4750-a6c7-6b7acb30483b",
   "metadata": {},
   "outputs": [
    {
     "name": "stdout",
     "output_type": "stream",
     "text": [
      "Final Summary:\n",
      "Shawshank Redemption to Pulp Fiction, and Pulp Fiction to Shawshank Redemption, and Pulp Fiction to Shawshank Redemption, and Pulp Fiction to Shawshank Redemption. The Shawshank Redemption is a tad cheesy, but it's not a bad movie. It's not a bad movie, but it's not a bad movie. It's a shame that Robbins hasn't had a chance to make a film since 'Rickshaw', but he's still a talented director. 'The Prisoner of Azteca' is one of the most powerful films I've seen in a long time. It's a film that's not just about the prison, it's about the people who live there. It's about the people who live there. Red's best friends, and they're the best of the best in a long line of romantic comedies and comedies, and they're the best in a long line of romantic comedies and comedies. Shawshank is a heartwarming, heartwarming film about two best friends who share a love for each other. It's also a heartwarming, heartwarming, heartwarming film about friendship. It's a good movie, but it's also a bad movie. It's a bad movie, but it's a good movie. It's a bad movie, but it's a good movie. 's a film that's destined to be a classic in its own right -- and one that's destined to be a classic in its own right.' The Shawshank Redemption is one of the most recognizable independent releases in the history of Hollywood. The Shawshank Redemption is a simple film, yet it has an everlasting message.\n"
     ]
    }
   ],
   "source": [
    "# Example input reviews\n",
    "reviews = [\n",
    "    \"Can Hollywood, usually creating things for entertainment purposes only, create art? To create something of this nature, a director must approach it in a most meticulous manner, due to the delicacy of the process. Such a daunting task requires an extremely capable artist with an undeniable managerial capacity and an acutely developed awareness of each element of art in their films, the most prominent; music, visuals, script, and acting. These elements, each equally important, must succeed independently, yet still form a harmonious union, because this mixture determines the fate of the artist's opus. Though already well known amongst his colleagues for his notable skills at writing and directing, Frank Darabont emerges with his feature film directorial debut, The Shawshank Redemption. Proving himself already a master of the craft, Darabont managed to create one of the most recognizable independent releases in the history of Hollywood. The Shawshank Redemption defines a genre, defies the odds, compels the emotions, and brings an era of artistically influential films back to Hollywood.\",\n",
    "    \"I have never seen such an amazing film since I saw The Shawshank Redemption. Shawshank encompasses friendships, hardships, hopes, and dreams. And what is so great about the movie is that it moves you, it gives you hope. Even though the circumstances between the characters and the viewers are quite different, you don't feel that far removed from what the characters are going through. It is a simple film, yet it has an everlasting message. Frank Darabont didn't need to put any kind of outlandish special effects to get us to love this film, the narration and the acting does that for him. Why this movie didn't win all seven Oscars is beyond me, but don't let that sway you to not see this film, let its ranking on the IMDb's top 250 list sway you, let your friends recommendation about the movie sway you. Set aside a little over two hours tonight and rent this movie. You will finally understand what everyone is talking about and you will understand why this is my all time favorite movie.\",\n",
    "    \"In its Oscar year, Shawshank Redemption (written and directed by Frank Darabont, after the novella Rita Hayworth and the Shawshank Redemption, by Stephen King) was nominated for seven Academy Awards, and walked away with zero. Best Picture went to Forrest Gump, while Shawshank and Pulp Fiction were 'just happy to be nominated.' Of course hindsight is 20/20, but while history looks back on Gump as a good film, Pulp and Redemption are remembered as some of the all-time best. Pulp, however, was a success from the word 'go,' making a huge splash at Cannes and making its writer-director an American master after only two films. For Andy Dufresne and Co., success didn't come easy. Fortunately, failure wasn't a life sentence. After opening on 33 screens with take of $727,327, the $25M film fell fast from theatres and finished with a mere $28.3M. The reasons for failure are many. Firstly, the title is a clunker. While iconic to fans today, in 1994, people knew not and cared not what a 'Shawshank' was. On the DVD, Tim Robbins laughs recounting fans congratulating him on 'that 'Rickshaw' movie.' Marketing-wise, the film's a nightmare, as 'prison drama' is a tough sell to women, and the story of love between two best friends doesn't spell winner to men. Worst of all, the movie is slow as molasses. As Desson Thomson writes for the Washington Post, 'it wanders down subplots at every opportunity and ignores an abundance of narrative exit points before settling on its finale.' But it is these same weaknesses that make the film so strong. Firstly, its setting. The opening aerial shots of the prison are a total eye-opener. This is an amazing piece of architecture, strong and Gothic in design. Immediately, the prison becomes a character. It casts its shadow over most of the film, its tall stone walls stretching above every shot. It towers over the men it contains, blotting out all memories of the outside world. Only Andy (Robbins) holds onto hope. It's in music, it's in the sandy beaches of Zihuatanejo; 'In here's where you need it most,' he says. 'You need it so you don't forget. Forget that there are places in the world that aren't made out of stone. That there's a - there's a - there's something inside that's yours, that they can't touch.' Red (Morgan Freeman) doesn't think much of Andy at first, picking 'that tall glass o' milk with the silver spoon up his ass' as the first new fish to crack. Andy says not a word, and losing his bet, Red resents him for it. But over time, as the two get to know each other, they quickly become the best of friends. This again, is one of the film's major strengths. Many movies are about love, many flicks have a side-kick to the hero, but Shawshank is the only one I can think of that looks honestly at the love between two best friends. It seems odd that Hollywood would skip this relationship time and again, when it's a feeling that weighs so much into everyone's day to day lives. Perhaps it's too sentimental to seem conventional, but Shawshank's core friendship hits all the right notes, and the film is much better for it. It's pacing is deliberate as well. As we spend the film watching the same actors, it is easy to forget that the movie's timeline spans well over 20 years. Such a huge measure of time would pass slowly in reality, and would only be amplified in prison. And it's not as if the film lacks interest in these moments. It still knows where it's going, it merely intends on taking its sweet time getting there. It pays off as well, as the tedium of prison life makes the climax that much more exhilarating. For anyone who sees it, it is a moment never to be forgotten.\"\n",
    "]\n",
    "\n",
    "# Define the chunk size based on the model's token limit\n",
    "chunk_size = 512  # Adjust this based on the tokenizer's behavior\n",
    "\n",
    "# Chunk the reviews\n",
    "chunks = chunk_reviews(reviews, tokenizer_peft, chunk_size)\n",
    "\n",
    "# Summarize each chunk\n",
    "summaries = [summarize_text(chunk) for chunk in chunks]\n",
    "\n",
    "# Combine the summaries\n",
    "final_summary = \" \".join(summaries)\n",
    "\n",
    "print(\"Final Summary:\")\n",
    "print(final_summary)"
   ]
  },
  {
   "cell_type": "code",
   "execution_count": 84,
   "id": "c386bad5-1521-497d-9a1b-59ab0fa9f8a1",
   "metadata": {},
   "outputs": [
    {
     "name": "stdout",
     "output_type": "stream",
     "text": [
      "The Shawshank Redemption is a tad cheesy, but it's not a bad movie. It's not a bad movie, but it's not a bad movie. It's a shame that Robbins hasn't had a chance to make a film since 'Rickshaw', but he's still a talented director. The Prisoner of Azteca is one of the most powerful films I've seen in a long time. It's a heartwarming, heartwarming, heartwarming film about two best friends who share a love for each other. It's \n"
     ]
    }
   ],
   "source": [
    "last_summary = summarize_text(final_summary)\n",
    "print(last_summary)"
   ]
  },
  {
   "cell_type": "markdown",
   "id": "aa4c6c5a-972d-4643-89c8-e74681ce71aa",
   "metadata": {
    "jp-MarkdownHeadingCollapsed": true
   },
   "source": [
    "## ---------------------"
   ]
  },
  {
   "cell_type": "code",
   "execution_count": 46,
   "id": "9b654f11-5424-46d2-8b5c-9ace8e3f3ec0",
   "metadata": {},
   "outputs": [
    {
     "name": "stdout",
     "output_type": "stream",
     "text": [
      "Review 1:\n",
      "I have to say, my first reaction walking out of the cinema was that it was great. Probably an 8/10. You know there's so much fan service in this movie and I particularly loved the \"I can do this all day\" CA line from one CA to another. It was almost Toy Story 2, enlightened Buzz to naive Buzz banter.I loved Clever Hulk, found Thor hilarious, though a bit annoying at times, and loved the references to past movies. Cap swinging Mjollnir around was beautiful.The deaths in this movie were also pretty surprising but I agree with some of the more balanced reviews in here that it was bizarre that so much time was spent on Hawkeye - does anyone really care about him? Not really.Killing off Black Widow was a surprising touch, but I, like many others, probably felt more of an emotional reaction to Banner's relationship with her and not Hawkeye (because no one actually cares about him). Renner, as an actor, just doesn't cut it much, unfortunately.The real problem with End Game, is the time travel. I don't know why any movie franchise would ever want to deal with time travel knowing how much grief it creates. Sure they try to explain everything with their hilarious conversation about movies, but in the end, there are just too many questions left at the end of the day, particularly when they already try to explain it through the Ancient One.The most glaring one of these is, if they change the past, they're changing another timeline, so how selfish is that? If Tony Stark snaps his fingers and kills Thanos, what happens to that original timeline? If he sent Thanos and everyone back, how does he magically know not to send Gamora back who is now stuck in 2023 - and so does that mean 2014 Quill never meets Gamora?!? What the hell? Essentially erasing the entire 2014 GOTG franchise in that universe. If Captain America goes back in time, he will inevitably change history in some way or another, so that is another timeline, right? So while everyone else's timeline is meant to stay the same in the present (as said by Stark) how does Cap end up sitting by the same lake as everyone else.There are also way too many questions about new timelines created - but perhaps that is intentional, such as the Loki TV show. But this is why I hate it when they bring time travel into any movie and just add stuff to it to make it wrap up nicely in their own universe.Also, don't get me started on how impossibly strong Thanos suddenly is without an infinity gauntlet? Even WITH the IG he couldn't stop Thor's Stormbringer, but now without the IG can easily defeat Thor with Stormbringer AND Mjollnir, Iron Man and Cap??? How convenient.I also think Marvel made a serious mistake creating Captain Marvel, how is she brought in as a convenient deus ex machina and yet doesn't really stick around to show off all her abilities, and she can't even defeat Thanos single handedly? Pfft. That was rich. She can barely prevent Thanos from snapping his fingers, yet in Infinity War, Cap was able to actually hold off his hand too? Bizarre parallels.So okay, sure, it was enjoyable to watch, but I just feel that there are too many plot inconsistencies creeping into End Game. There should have been better ways to get the infinity stones back, and I think someone stupid just thought time travel was the best way to do it,.\n",
      "Sentiment:  positive\n",
      "Elapsed Time:  0.5021469593048096\n",
      "----------------------------------------------------------------------------------------------------\n",
      "Review 2:\n",
      "After Avengers Infinity War, we waited for the Avengers Endgame. We wondered how the story would go on, how our heroes would turn back, what would be the end of Thanos. Many theories related to this have been put forward. Avengers Endgame was undoubtedly the most anticipated film of recent years. Normally, the higher the expectation, the higher the probability of disappointment. But this is not the case for Endgame. Whatever you're expecting, you find much more in the film. This means that the biggest concern about the film has disappeared.On the other hand, another comparison comes up. Is Endgame more successful than Infinity War? We can comfortably say it Avengers Infinity War is just the beginning of the story. Endgame was the finale of the story. So we shouldn't think of these two films as two separate stories. There is only one story divided into two parts.Avengers Endgame is, above all, a great homage to the ten-year history of the Marvel Cinematic Universe. The story highlights the original Avengers team. Iron Man, Captain America, Thor, Hulk, Black Widow and Hawkeye are at the center of events. No character comes in front of them. Of course there are many characters that play an important role in the story outside the original Avengers team. Everyone's concern was that Captain Marvel, who was included in the Marvel world, overshadowed other heroes. We can say that this certainly did not happen. What is important in this struggle is not how strong you are, but how good you are. This comes to the fore in all areas. It gives good message about being a hero and a family.Of course, Avengers Endgame has some critical aspects. For example, is the three-hour period necessary in terms of the story? It can be discussed. The head of the story moves much slower than the rest. It also drags the heroes into an emotional predicament. Then the tempo is rising and the heavy scenes we are watching are getting more meaningful. The last 45 minutes of the movie is fully action packed. But the last 45 minutes goes so fast that you don't even realize it. Action and battle scenes are really successful. There is not even a slight distress about visual effects. There are also slight logic errors in the film, but in general the story is so successful that these details become meaningless and insignificant after a certain point.Lastly, Avengers Endgame doesn't have a movie end scene. Because after the film's final, there is no need for another scene. The Marvel legend Stan Lee appears with a small stage. But this is the last surprise scene in the Marvel Cinematic Universe. Moreover, there is no clue about Marvel's future. This makes us wonder more about Spider-Man: Far from Home. 10/10\n",
      "Sentiment:  positive\n",
      "Elapsed Time:  0.2015836238861084\n",
      "----------------------------------------------------------------------------------------------------\n",
      "Review 3:\n",
      "If you're going to watch this movie, avoid any spoilers, even spoiler free reviews.\n",
      "Which is why I'm not going to say anything about the movie. Not even my opinion. All I'm going to say is:The crowd applauded 3 times during the movie, and stood up to clap their hands after. This I have never witnessed in a Dutch cinema. Dutch crowds aren't usually passionate about this. I checked the row where I was sitting, and people were crying. After the movie, I was seeing people with smudged mascara. That's all I have to say about the movie.\n",
      "Sentiment:  negative\n",
      "Elapsed Time:  0.07615041732788086\n",
      "----------------------------------------------------------------------------------------------------\n",
      "Review 4:\n",
      "I've just come from watching Endgame and I must say that I am disappointed.I loved Civil War and I loved Infinity War. When I came out of those films, I knew immediately that they were great and that I wanted to see them again. With Endgame, I'm not sure.I respect how they were prepared to show the consequences of what Thanos had done but by killing him off so quickly and then them having to do their own stone quest (hadn't we already seen Thanos doing this in IW) it felt slow and lazy. Worse still was that it felt very self-indulgent and attempting to be clever for clever sake.Like how Back to the Future II considered itself clever for showing the events of the first film but with Marty flitting around behind the scenes to ensure that it all still happened. I know it's meant to be fan pleasing but it really felt like a gimmick and lacking in confidence. Almost like it was saying 'Hey guys, this will make you smile'. If you want to make me smile, concentrate on maintaining the quality of your product rather than directly trying to make me like you.But the trouble with messing around with timelines and bouncing around is that it makes the audience start asking questions during the film. The linearity that we'd seen in IW and the imminent fast approaching threat is replaced in Endgame with a lack of direction and characters that are earlier versions of who the audience have seen.In IW we were shown Thanos. He was written to be sympathetic or at least a character that we the audience could understand. He believed in what he was doing and this made him more rounded. But in Endgame, that version is dispatched quickly and we are supplied with a 2014 (?) Thanos who isn't the character we know but is just a token bad guy.This Thanos hasn't made the sacrifice at Vormire, he isn't the guy that would empathise with Scarlet Witch for what she did to Vision. He has suddenly become a token cut out evil bad guy that needs to be defeated. Hell, the writers even manage to forget their own time loop by saying that this Thanos has learnt that he doesn't want to wipe out 50% anymore because they are too ungrateful. How does he know this when the 2014 Thanos has only just literally arrived in the post wipeout Universe? How has he had time to form the opinion that his previous quest for a 50% cull isn't worthy?Is this a case of the writers being terrified that they had created a bad guy that people related to or was it a fear that they'd written themselves into a hole? Why go to the effort of creating that character in IW to suddenly kill him off at the beginning of Endgame just for a dramatic punch?For me, the time travelling and stone gathering wasted time to create unimportant scenes that fundamentally undermine the films that came before.\n",
      "In my opinion it would have been better if they had shown the remaining Avengers preparing to do some Avenging and maintained the single minded linearity of IW of battling towards and reaching a post click Thanos and somehow reversing his work.The more I think of the film, the more plot holes and frustrations manifest themselves. Thor's drinking and man child antics might have been initially funny but one begins to realise that they are deliberately doing this to clip his wings. Likewise with Hulk, his primordial desire to smash and destroy has been removed to think it out and he has become an embarrassing shadow of his former self.The thing that is meant to be amazing about the MCU is the world building but inconsistencies have been appearing and there are so many in Endgame that it makes you question whether these two films are written by the same people.In IW, Thanos is a dangerous and credible threat because he has the infinity stones. He takes on half of the Avengers, Strange and some of the Guardians on Titan and smashes them and then takes on the other half on Wakanda and smashes them. Yet it is Stormbreaker (whose creation we have seen been hard earned by a motivated Thor) that has the power to take down Thanos even when he has a full complement of Infinity Stones.Yet we roll forward to Endgame and we have literally all the good guys together in one place, Cap with his shield, Tony fully powered up, Scarlet Witch p*ssed and vengeful, Capt Marvel who can seemingly do anything and Thor wielding both Mjolnir AND Stormbreaker and Thanos NOT in possession of the gauntlet, yet they can't defeat him.It's like the fights in IW were so amazing because the good guys were taking on an unbeatable foe yet here he is now seemingly defeatable by the 'rules' that the writers established . A good example of this would be in IW when Cap is the last man standing before Scarlet Witch and he grabs the gauntlet. You see the look of admiration/respect on Thanos' face that Cap is holding open the gauntlet before he punches him to the ground yet now that scene seems pointless.The writers for Endgame seem to have been driven to undo everything they did in IW. All the tension, all the sacrifice, all the development of Thanos discarded for well, I don't know what. It makes no sense.IW had two incredible scenes that used to choke me up. When Cap appears in the train station, the Avengers theme kicks in and Falcon and Widow take down the henchman in a wonderfully choreographed scene. In just that one scene it shows them coming to the rescue, it shows how intuitively they work together and it showcases their heroism.Likewise when Thor creates Stormbreaker and makes his entrance on Wakanda, I felt it for the journey that Thor has been on. He's had to contend with loss and defeat and humiliation and this is his redemption. Here is a character that has earned his game changing weapon and when he arrives and demands to face a character that everyone else is running away from, I want to punch the air.But in Endgame, that feels like it has to be corrupted. We can't have Thor being dominant, let's break him and make him a fool. We can't have Thanos being complicated and relatable, let's make him a cut out bad guy. We can't have Hulk being rage fuelled and smashing stuff up, let's make him more sensitive and talking stuff out. We can't have Cap being stoic and heroic, let's have him ridiculing one of his own iconic lines in a silly gimmicky fight with himself and commenting on his butt. We can't have a powerful female character that we're invested in look sexy AND be able to take down Thanos, let's give Scarlet Witch a small part but focus our attention on a female character that hasn't earnt our admiration or desire for revenge.To be honest, the 'rules of engagement' had been set so well in IW that when in Endgame Thanos massed his ranks against the Avengers and then ALL of the good guys showed up, I was almost expecting the camera to pull away and not show the fight given that it was so obviously going to be an easy win for the good guys.And as for the big fight scene, it did reek of what DC always manage to do which is just throw everything into an end battle and bludgeon you with CGI and pyrotechnics so that you aren't really sure what is going on.In the many fights in IW, you knew what was going on, you recognised the combatants, you understood the stakes and you identified the geography of the scene. In Endgame we got one big massive fight where everything was thrown in the pot and it was just assumed by the directors that we would be happy with all the flashing lights.\n",
      "And I have to say that considering that Steve and Tony fell out so hard, and that Tony's criticism of Steve was so unfair, that I really had hoped for more than just a handshake, a muttering of 'no worries' and 'here's your shield'. These guys wrote and directed Civil War, they created the line 'we fell out hard' and hence I had hoped for something deeper and more touching than a handshake.Steve wrote Tony a letter telling him that when he needed him he'd be there but once again the Iron Man bias had to creep in and once again Tony was the victim and the ultimate hero.But I think my biggest problem is how the convenient time travelling undermines everything. When a franchise starts retrofitting stuff (like Fury's eye being from a space cat), it's then hard to consider the previous stories.Having 2014 Gamorra means that all the evolution that we saw her go through in GOTG 1 and 2 is wasted. Having Cap marry Peggy means the pain of his sacrifice, him seeing her in Winter Soldier when she is suffering from Alzheimer's, hell even his blossoming relationship with Sharon Carter is kinda irrelevant. Having seen Thor at last step away from his two weaker origin films into the entertainment of Ragnarok and the redemption in IW leaves us now with a bumbling buffoon.We know that what makes Captain America what he is, is the serum that makes him a super soldier. That he was transformed from a weakling to a superhuman. Sam Wilson is not a super soldier and he didn't take the serum. He is Falcon. Now maybe in the comics he becomes Cap but Bucky is a super soldier. Is the new Cap going to foil an evil plot and be defeated with a tazer or a knife to the chest? Consider the beatings that Steve has taken and the physical strength that he has shown we can recognise that Sam Wilson does not have that.I'm sorry to say but the Russo's have dropped the ball. Themselves and their writers have succumbed to their success and their desire to be engineers of political correctness and social change. I thought Endgame would be the high soaring end to this 10 year run of impressive movie entertainment but in the end the writers got carried away, the directors over reached and the studio sacrificed the integrity of their product for a chance to 'educate' us all. A real shame and a wasted opportunity.Infinity War is clearly the highlight of the last 10 years but even now I fear that repeated viewings will render it pointless considering how the makers decided to fundamentally damage it.\n",
      "Sentiment:  negative\n",
      "Elapsed Time:  1.0782644748687744\n",
      "----------------------------------------------------------------------------------------------------\n",
      "Review 5:\n",
      "Rating 10/10\n",
      "Absolute perfection end game !! Good acting performance to all the characters. Great cgi's. Truly epic & perfect ending to a long journey of marvel movie. Go see it you wont regret it !! Perfection Marvel Endgame !!\n",
      "Sentiment:  positive\n",
      "Elapsed Time:  0.06701517105102539\n",
      "----------------------------------------------------------------------------------------------------\n",
      "Review 6:\n",
      "Avengers: Endgame is above all the best Marvel superhero movie to date. This is also the best and epic conclusion to the 21 movies in the first 10 years of the MCU. This is the epic culmination. The best storytelling ever told.\n",
      "Sentiment:  positive\n",
      "Elapsed Time:  0.05678415298461914\n",
      "----------------------------------------------------------------------------------------------------\n",
      "Review 7:\n",
      "Unbelievable. For Marvel to pull this tour de force of a film is unreal. 21 films. 21 films culminating in the conclusion of endgame. The scope is incredible, I will only say it's definitely one of the best Marvel films out there, and there are many. I don't want to spoil anything. Watch it!\n",
      "Sentiment:  positive\n",
      "Elapsed Time:  0.059481143951416016\n",
      "----------------------------------------------------------------------------------------------------\n",
      "Review 8:\n",
      "I'm a long time MCU fan. Been here since good old hulk days (let's not talk about that). But this movie is NOT what it was all cracked up to be.There are so many things that just go unexplained. Stuff just happens for no reason.\n",
      "Eg Cap picking up Thor's hammer.Thor is utterly and COMPLETELY RUINED. Why the Russo brothers thought it would be a good idea to make most people's favourite character fat and pathetic I will never understand. And to be honest that is what ruined the film for me the most. There was absolutely no benefit from doing that. Why spend all that time getting Thor's new axe and all this power to then take it all away? He'll just become one big meme now.\n",
      "Hulk still wasn't made useful. Even hulk in the first avengers was better than this \"professor hulk\".\n",
      "The film was confusing as hell and made absolutely no sense timeline wise.\n",
      "This is probably going to be a generally unpopular opinion but I think genuine MCU fans will agree with me when I say Infinity War was better. Yes Endgame was sad and it made me cry my eyes out but I was also crying because they ruined it. It's not hard to please MCU fans. It really isn't.\n",
      "Sentiment:  negative\n",
      "Elapsed Time:  0.1165015697479248\n",
      "----------------------------------------------------------------------------------------------------\n",
      "Review 9:\n",
      "I feel like I'm wasting my time writing down my thoughts about Avengers: Endgame, because nothing I (or any critic) could say about it would ever dissuade a prospective viewer from seeing it. But after having had the chance to watch it at a preview screening, I can't help but say a few spoiler-free words.I'm not your average fanboy -- most long-running franchises have bored me at this point, and I couldn't care less about the newest Star Wars episode or whether there will be another film set in the Harry Potter universe.But Marvel films have been consistently watchable, with many solid entries and a few great ones (Winter Soldier, Ragnarok, the first Guardians of the Galaxy among others). And after Infinity War ended with a cliffhanger, I was looking forward to the conclusion. Boy, was I not disappointed!Very few highly-anticipated movies live up to the hype, but Avengers: Endgame is one of them. It's the perfect follow up to Infinity War, and the absolute zenith of the Marvel franchise. It's hard to see how they'll be able to top this one.It's surprisingly inventive (even when you know where the story is headed, the plot takes a few tangents getting there), emotionally engaging (a few people were crying in the theater) and surprisingly funny (this is probably the most I've laughed in a Marvel film since Thor: Ragnarok). Visually speaking, it's a true spectacle (topping Infinity War in the 'epic battle' stakes), and even though it's three hours long, it doesn't feel bloated. The only times I glanced at my watch was because I was hoping there would be more time before the end.Yes, it's a superhero movie, but an immensely entertaining one (especially for fans who have seen all the pictures that came before it: there are tons of references and inside jokes to reward the faithful).If \"Return of the King\" managed to win Best picture at the 2003 Oscars Avengers: Endgame deserves at least a nomination. It's as good (and in many ways better) a conclusion to a fantasy/genre series as the Peter Jackson film,.Go see it.\n",
      "Sentiment:  positive\n",
      "Elapsed Time:  0.17834806442260742\n",
      "----------------------------------------------------------------------------------------------------\n",
      "Review 10:\n",
      "I laughed , cried and was speechless. 3 hours well used. It was a perfect \"ending\" of the Avenger Movies.\n",
      "I will watch it again and again and again. 10 points well deserved!!!\n",
      "Sentiment:  positive\n",
      "Elapsed Time:  0.06963539123535156\n",
      "----------------------------------------------------------------------------------------------------\n",
      "Review 11:\n",
      "Will probably get killed with dislikes, but hear me out before you come at me:To set things straight; yes this was a good action movie. Was it more than that? Not really. Let me explain why.1. The whole thing about fortnite, hulk-dabs and fatty-Thor was really .. unnecessary. I really love how Marvel use humor in their movies - but this is reaching.2. I love paying for long movies, but I hate checking my watch mid-playtime. It felt like some parts of the movie could've been clipped out to keep the flow going a little better.3. The last fight scene has been named by some as one of the best ever on screen. I have to disagree. The clash was both very messy and clumsy. It was hard to focus on what really happened, and it felt like they had to bring just everything without thinking about how it looked on screen. Personally I felt nothing special about it, and there were really never a point we're i wondered if our heroes would prevail...To sum my review up; Marvel has ended one of their best series, and they did it in a decent way. Sadly it feels like they are trying to please more children, especially when they force stuff like Fortnite and dabbing into the movie. I'm disappointed, but yet I had a good time.\n",
      "Sentiment:  negative\n",
      "Elapsed Time:  0.11201190948486328\n",
      "----------------------------------------------------------------------------------------------------\n",
      "Review 12:\n",
      "*Packed with MANY spoilers*Let's get real. This movie was so massive, but it has sooo many plotholes! Make no mistake I love Marvel, but this movie was not the best that's out there from the MCU. I loved how the movie pays homage to the previous films, I thought that was quite clever. But I personally expected way more action earlier in the movie.Thanos snapped half the universe in IW. But we didn't really get to SEE the direct impact on Earth in this movie. No chaos. No news. Just a ... quiet depressed world? Really? I wanted to feel anxious and feel like all hope is lost but it never really got there. Even during collecting the stones from the previous timelines.The attack on Thanos in the opening scene was lame. This guy was meant to be a massive villain that the MCU has been building up for a decade, and his death was over in minutes. Captain Marvel's lack of screen time didn't make any sense, she's so powerful yet was hardly there. I get that the writers were focusing on the original 6 Avengers but there were scenes where it would have been interesting to see her in. Yes, this is the Avengers fight, but it's also Captain Marvels universe that has been affected, so not seeing her as involved as Ant-Man or Nebula was disappointing. Oh and obtaining the Soul stone... Nebula couldn't warn Black Widow and Hawkeye about what was coming? Seriously?? Not something you want to mention beforehand?How did Thanos's ship time travel without a) starks tech and b) the Pym Particle. HELLO THE SHIP WENT SUB ATOMIC INTO THE QUANTAM REALM AND TIME TRAVELLED. What did the 2014 Nebula do to make this happen? And no one noticed a massive ship come shooting out of the time machine and out of the Avengers base?!When Hulk reverses the snap... again we don't know the impact it had on Earth / the Universe. What actually happened? Was everything reset back to 2019, or were the people that turned to dust returned into a new time (5 years later?) and if so why was Peter back in highschool?? And what about the people that were already on Earth, were they also set back to a time right before everyone dissappeared? I guess we see Cassie (Ant-Man) all grown up at the end, but come on... this was a MASSIVE ISSUE and it was not explained in any way whatsoever. I get they wanted the dramatic entrance of the dusted superheroes, but even after the mega action scene at the end there was no explanation of how half the universe came back into life.The movie also never really showed us as an audience the 1 in 14 million ... chain of events that led to the win. Could anyone else have snapped their fingers and dusted away Thanos and his clan? Again... no proper explanation.Tony stark starting the MCU infinity saga and also ended it, perfect... and giving him the appropriate screen time at the end. What about black widow? Couldn't Hawkeye bring her body back? Couldn't someone else travel to where she was and get her body? They just left her there to die alone?For a 3 hour movie you'd expect more of closing story or better explanations, but instead time was wasted on a slow start to the movie. Nonetheless I still enjoyed this movie and it will come to grow on me more and more, but I'm always going to have these questions in the back of my mind every time I watch.Oh... and don't get me started on the time travel MESS.\n",
      "Sentiment:  negative\n",
      "Elapsed Time:  0.2837669849395752\n",
      "----------------------------------------------------------------------------------------------------\n",
      "Review 13:\n",
      "A nice production for those only interested in action sequences but not so great for those wanting closure of the Marvel story line...The best part of the film is that it brings together all previous Marvel movies to drive the plot... And the worst part of the film is it brings together all previous marvel movies to drive the plot... because it seems the production team don't really know the stories that ran before...\n",
      "Anyone who follows the stories (from the movies, not the comic) will know there are much easier time points to collect each of the stones... The drama created by making this 'collection plan' much more difficult than it needed to be, added at least an unnecessary hour to the movie...Other plot points that didn't sit well with me and reduced the enjoyment of the movie, are...1) Thanos 'killed' 50% of the \"good guys\" and he's hailed as a super villain... Tony 'killed' 100% of the bad guys and he's a hero? Don't heroes learn from their own pain and sufferings and on principal refuse to inflict the same misery on others?Surely, other than Thanos and a few of his more loyal subjects, the rest are simply following orders...\n",
      "(On another tangent, Thanos seems to really believe in his cause because after he killed off half the universe, including his people I believe, he lived alone and not with an army of servants and subjects for him to rule as a king... That's honourable...)2) they didn't reverse time... Just brought everyone back with a 5 year time gap... People should not behave normally when loved ones they haven't been with for 5 years suddenly reappear... Those who have survived those 5 years didn't get their memories and aging removed, right?3) how did Thanos and his gang all time travel while the avengers are so calculative about one person 2 trips?A 30 second segment showing Thanos instructing his people to mass produce the Pym solution for time travel would have closed this plot hole.4) always disliked Captain Marvel because she is so powerful that no other super heros need to exist...\n",
      "And still... She is so concerned about other worlds that she couldn't be bothered to be present for the start of the biggest battle her home planet is about to face... when every known superhero showed up at the right time and right place...And later, the battle actually showed she's not all that great... So her weakness is she sweats the small stuff, can't see the big picture and not available/functional when needed?4) If they can bring back Gamora, why can't they find a timeline to bring back Natasha and even Tony? Superheros really don't like to plan and think things through... (Same as when they don't seek the easiest points to retrieve the stones... With zero time pressure for planning...)5) speaking of Gamora, the Gamora who came with Thanos don't know the guardian crew at all... so even though she's not 'evil' like the old Nabula, she wouldn't be friendly like she knows they are the 'good guys'...\n",
      "Based on the time line, she doesn't even know Quill yet... So she should view him and them as the enemy in the battle...6) Nabula... If she killed her historic self, shouldn't she just drop dead in the new timeline?\n",
      "Grandfather paradox anyone?7) what's with that special scene where all the women heroes joined together to show their power?\n",
      "To me, that's totally sexist...Speaking for myself, I enjoy male and female superheros for their individual powers and weaknesses... Once a person reaches superhero status, in my mind, they crease to represent a gender (other than those gender/age stereotypes to generate laughs and endearment...)Having al female scene shows me that the production team are so hung up on being politically correct that they generate a reverse sexist scene to feel they are all inclusive... Sigh...\n",
      "These same people want a female James Bond / Indiana Jones but not a male Mary Poppins / Eliza Doolittle... And they think the rest of the world is sexist...\n",
      "The self proclaimed tolerant and inclusive are starting to paint themselves into a corner...8) while it's nice to see Bruce and the Hulk getting along...an unangry Hulk takes away what makes the Hulk a character...Remember these famous words? \"You wouldn't like me when I'm angry\"... that's gone now... Sigh...9) speaking of which... Why on earth would the Hulk go into battle in an amour suit? Surely that was made for Bruce when the Hulk refused to come out to play?How would the Hulk fit inside and why would he need it? That's taking power away from the Hulk and it pissed me off...10) if the Ancient One knows and sees all possibilities... Even knowing when Dr Strange will show up... How did she not see the Hulk coming to ask for the stone?11) Loki's escape with the tesseract surely would have spun an alternate time line... Since there is only ONE tesseract... Then much of the previous stories wouldn't really make sense if Loki had it almost immediately after he lost it ...12) Captain America basically anointed the Falcon to be the next Capt? *Roll eyes*...I think the Falcon already has a lot going and Bucky should be a better successor...\n",
      "In any case, we won't see Thor succeed the iron Man suit because he doesn't really need the extra edge...\n",
      "Bucky is a super soldier in the same vein as the Capt. And should have been his first choice for a successor...13) did Captain America just ignore world events for the last century while he hid with Peggy? (& what did he do after she died... Surely she can't live as long as he... Wouldn't he simply come back to the 'present' having enjoyed a full and loving life, and not yet as old as he became?) ... The Production team might wish to rewatch Highlander...😋He never got the itch to help the 'current' Captain America fight injustice? He resisted the urge to pass on information that might help the avengers as he had lived through all the events before? (I know, I know... Can't/shouldn't change history... But how could he resist, for someone like him who loves to lecture and lead?)14) the biggest plot hole of all and the one that buried the movie for me... is...The Thanos that was in the battle came from before the previous movie right? (Infinity war)...If Tony Stark kills Thanos in this movie... That means none of the previous movie plot could have happened... Nobody was \"killed off\" (not even Loki...)... Nobody lost/gained 5 years of their lives... Thor didn't need to get fat, none of this movie should even get started...That's the devil when idiot film makers dabble with time travel in a non-time-travel movie... Adding this means they can't take care of the details properly...The above are just the main plot annoyances... And there and many other smaller ones which prevented a truly epic movie experience...3 hours is a long movie and much of it unnecessary if they tightened the plot to make more sense...So, while the movie is good...I wouldn't selectively watch it again... Which to me is the benchmark of a great movie.I'm torn in giving a rating... I want to give 7 based on the scale of the production and emotional ties it has on me from all the previous Marvel movies...But the constant I'm jolted with throughout the film killed much of my buzz and for that I want to give it a 2... Sto be fair... it'll get a 4 overall to balance both sides...\n",
      "Sentiment:  negative\n",
      "Elapsed Time:  0.7044541835784912\n",
      "----------------------------------------------------------------------------------------------------\n",
      "Review 14:\n",
      "Anyone of Thor's fans wouldn't accept Marvel's adaptation of Thor. They ruined Thor this character just for making him as the funny elements of the film\n",
      "Sentiment:  negative\n",
      "Elapsed Time:  0.05407595634460449\n",
      "----------------------------------------------------------------------------------------------------\n",
      "Review 15:\n",
      "Don't get me wrong, the movie was great, but would I watch it a second time? Probably not - until the DVD comes out.I've seen infinity war at least 5 times, and it's one of my favorite films.That being said, i will compare the two movies for sure, and I just disliked the pacing, it was all over the place. Some Characters felt off, and some got little to no screen time, where others had too much.It's just too many characters for one movie, even though infinity war did it much better, with just as many characters. I just can't put my finger on it.The fighting scenes were alright, the first half lacked action, but the second half delivered some good solid scenes, nothing groundbreaking, but fun to watch. They can't reinvent the wheel, neither do they want to. They stick to what works, and that's alright.All in all, the movie was a close 8/10, the fanboys who give it a 10 are just blind to accept the mistakes the movie made. It's not a perfect film, even an 8 is really generous in my opinion. The Movie works with nostalgia and gives fans of the MCU the things they wanted, more or less.Still thinking Thor 3 was the best MCU movie. Sue me.\n",
      "Sentiment:  positive\n",
      "Elapsed Time:  0.11677718162536621\n",
      "----------------------------------------------------------------------------------------------------\n",
      "Review 16:\n",
      "So it all ends. I have loved most of the MCU, some have been too predictable but I awaited after IW to see how it would all pan out. Firstly some of my favourite characters are a joke. Please don't dumb Thor or Banner/Hulk down, not necessary. Great starting scene, then slow dramatic next 1.5 hours. It builds to the time travel reversing all section with too many plot holes. We've all seen other time reversing movies who have done it so much better. The last hour is spectacular, great to see all the gang back but it feels rushed. Emotion runs high and defo not a kids film in my eyes. Cap is great Stark is amazing but everyone else feels like there just there. What I loved was the beauty of the final scenes, wonderful score and saying goodbye to old friends. Overall wanted more, but even far from perfect is still pretty good.\n",
      "Sentiment:  positive\n",
      "Elapsed Time:  0.08841228485107422\n",
      "----------------------------------------------------------------------------------------------------\n",
      "Review 17:\n",
      "Not sure if it's a good idea to write a review here, as it seems, that Fanboys are rating down carefully considered reviews, just because they are not praising endgame, but so be it.I was not really disappointed, but I was also not stunned by this movie. It had a lot of shortcomings, logic-flaws and humor that simply wasn't funny or jokes that were somehow not fitting into the storyline. Some characters developed in a direction, I personally did not like and the overall ending to the movie seemed rushed and somehow chaotic.Overall it was a decent ending to this MCU phase, but as always, it's down to personal preference if you like a movie or not or if you wished for a different storyline.There are too many things, that were illogical:\n",
      "Nebula not telling the guys what it takes to get the soul stoneTony Stark not even questioning why Pepper is in the end-fight and not taking care of their childrenDepressed, fat ThorCaptain America being able to use Thor's hammerCaptain America living a life with his girlfriend without someone remembering it in their timelineAll of a sudden, all dead heros appear out of nowhere - all coming from Wakanda - how the heck did they know and gather in the first place?If you haven't seen Captain Marvels end credit-scene, Captain Marvel would appear right out of nowhere in this movie and everyone would wonder why.Thor being depressed and fat and this Softie-Version of Hulk were the main character developments I also did not like.Personally didn't like Tony Stark being killed, but one saw that coming. After all, his story was told. Captain America living another live at least got him a happy end, although and illogical one. The hairstyle of captain Marvel ... ok, let's not talk about this one.There are certain scenes that are indeed epic, overall, the movie was entertaining, but I honestly liked Infinity War more.Cannot tie this to specfic reasons, it's a combination of all the aforementioned elements, that simply didn't do the trick for me to make it an epic movie.Considering myself being a big fan of the MCU franchise, I think all fans should see it, but if you are at least somehow interested in a decent and logic storyline, be warned you might not be too overwhelmed by this movie.\n",
      "Sentiment:  negative\n",
      "Elapsed Time:  0.186204195022583\n",
      "----------------------------------------------------------------------------------------------------\n",
      "Review 18:\n",
      "After Infinity War I had huge expectations. Unfortunately I think it doesn't follow the comic book at all because they wanted some kind of closure of the story.\n",
      "I saw a lot of 10 star reviews and I cannot believe the majority of people like this movie more than Infinity War.\n",
      "I'm not saying it wasn't entertainment to watch but the feeling is that all heroes were forced to fit in a movie paying a big price to the story.\n",
      "There are moments in the movie where the rules from all other Marvel movies are broken and characters which were build over hours of screen time were reduced in order to make space for others.\n",
      "The story is average at best with big flaws.\n",
      "Sentiment:  negative\n",
      "Elapsed Time:  0.07365989685058594\n",
      "----------------------------------------------------------------------------------------------------\n",
      "Review 19:\n",
      "This movie proves the Russo brothers are in a league of their own when it comes to closing a franchise this big. In my opinion they pulled of the most satisfying ending this story arc could have.It's nothing without its previous 21 movies. Must watch for every movie fan.\n",
      "Sentiment:  positive\n",
      "Elapsed Time:  0.05930900573730469\n",
      "----------------------------------------------------------------------------------------------------\n",
      "Review 20:\n",
      "Endgame is a good movie, but not a great one.Is it a fitting end for the 20+ movies, hell yes, but still it´s falls short in way too many areas.The plot is what all thought it would be about, with some small twists, but the first 1,5 maybe 2 hours could have been much shorter.When things start to pick up, and we get the epic show down... well... It´s one big LET DOWN :(Again it´s a good movie, but great.... no way.\n",
      "It´s really a disappointing ending to so many great Marvel movies, as the big battle is over and done before it even starts.Maybe I had too high expectations, and many will disagree, but damn im bummed out about the ending.\n",
      "Sentiment:  negative\n",
      "Elapsed Time:  0.07546281814575195\n",
      "----------------------------------------------------------------------------------------------------\n",
      "Review 21:\n",
      "I want to start out saying I love all the Marvel movies leading up to Endgame. I loved Infinity War because it seemed to be setting up a terrific conclusion to the original 6 Avengers story arc's. I was very wrong. Let's start with Tony's Arc. In Ironman 1 Tony is told you are a man who has everything and nothing. In Ironman 2 we find out his dad was distant and cold to him, and in ironman 3 he is getting panic attacks because he thinks it's up to him to save the world from all threats. So in Endgame he finally gets everything that's important. He becomes a Dad and husband and... was proven right by having to die saving the universe himself? Why? Because we are supposed to believe Tony can't retire? Of course he can. Didn't he say to Steve in AoU \"isn't that why we fight so we can end the fight? So we can go home?\" Tony wanted to retire. Tony's arc should have been about being a good dad like his father never was and finally becoming the man who has everything important. He should have learned that he doesn't have to do it all on his own. Team work should have won the final battle. What's the point of finally getting all the Avengers together if it's left to one man to sacrifice himself to save everyone? Tony's ending was not satisfying and it was not the end they have been building towards from the beginning. Now let's talk about the real tragedy in this movie. Steve Rogers character. We know he is a good man who always does what he believes is right. He calls Home the Avengers facility and says he can't ignore a situation that's headed south. He loved Peggy but found out she had gotten married and had a happy life and he tried moving on with her niece. This storyline was ignored which was ok because most of Steves storyline in the MCU has been about saving Bucky. You remember him right? Steve didn't seem to for the entire movie. Instead of thinking about Sam and Bucky and all the people they are going to save if their plan works when they find Thanos in the beginning of Endgame Steve's just looking at the Peggy compass that he hasn't looked at in at least 3 movies. Why? So we can all forget about his actual character development and think it's a great ending when he goes back in time to be with Peggy. I'm just going to ignore all the plot holes associated with Steve going back in time and just focus on the character assasination this commits. This means the same guy who says he can't ignore a situation headed south, who never ran away from a fight, who said I'm with you till the end of the line\" to Bucky is just going to live out his life in the past never saving his friend from being a brain washed assassin, never saving his other friends parents from being killed by his best friend, never stopping any of the thousands of bad things he would know are going to happen? That's not Steve. The writers never let Steve get a personal life. He never found someone after Peggy and he never had anything except the Avengers. He was the one that was set up to die. The final battle starts with what is probably the most epic scene in comic book movie history but fizzles our soon after. Doctor Stranges plan makes no sense. How was this the only way they could win? Why couldn't Captain Marvel snap? Why couldn't captain Marvel just fly the gauntlet to another galaxy? Why couldn't Doctor Strange open a portal and drop the gauntlet on some random planet? In Infinity War why didn't Doctor Strange use his portal to go to Wakanda and tell Thor to aim for the head. The characters powers were very inconsistent for the first time in the MCU. Why was Thanos with no infinity stones able to fight Mjolnir and Storm Breaker but Thanos with all 6 stones would have lost to Storm Breaker if Thor would have just aimed for the head? Why can Captain Marvel fly through a huge spaceship 10 times but she gets knocked out after one punch from Thanos? Why does no one attack Thanos at the same time as someone else? Where's the big team up? You would think getting everyone together for the first time would have been the only way to defeat Thanos, but you'd be wrong because it's all about Tony stark. Even Steve picking up Mjolnir means nothing really because it has no affect on the end of the battle. Thor and Steve could be taken out of this movie and nothing would change. They do nothing of importance. This movie seems so disconnected from Infinity War that it's boggles my mind how this movie has the same writers and directors as Infinity War and it was filmed at the same time as Infinity War. How can you get one so wrong and the other so right? It seems clear to me that the writers and directors decided that Tony was dying and Steve was going back to the past no matter how much their story suffered from doing it. It's like they had a check list of things to put in the movie without actually making a good story that fit in with the rest of their movies. This is by far the most dissapointing ending to anything I've ever looked forward to.\n",
      "Sentiment:  negative\n",
      "Elapsed Time:  0.4311833381652832\n",
      "----------------------------------------------------------------------------------------------------\n",
      "Review 22:\n",
      "Firstly, let me start off by saying that I know it must be difficult to get the balance right for a film with so many characters.One of the reasons the original 'Avengers Assemble' movie was so good, was because they did just that. They had different tiers of bad guys, so Thor & The Incredible Hulk (class 100 characters in the Marvel Universe), were fighting the big guns (Loki and the biggest flying aliens), whilst Captain America & Iron Man dealt with the smaller guys and stopped the nuke.This unfortunately didn't happen in Age of Ultron where you had Hulk and Thor fighting exactly the same enemies Black Widow & Hawkeye, but they seemed to get back on track in \"infinity Wars' with Hulk fighting (briefly) and losing to Thanos, as did Thor & Loki.That's okay though, Hulk would surely get his revenge in End Game... right?WRONG!The hulk doesn't even have a fight!!!! Arguably THE strongest being in the marvel universe with immeasurable strength and the 'strongest there is' and he doesn't even throw a punch... not once in the entire film!!!!Everything he does Banner could have done and even Ant Man had to save him from drowning...I mean ffs!!!Marvel have totally undervalued the Hulk and he may as well have not been in the last 2 films.Captain America picks up Thor's Mjolnir and not only that but can all of a sudden summon Thunder & Lightening too.Thanos is able to fight and defeat Thor, Iron Man, Captain America and Captain Marvel... even WITHOUT the infinity stone glove.There's not one memorable fight scene in the entire film and the person who gives Thanos the longest fight is (class 10 rated) Captain America.The only memorable scene is with Black Widow & Hawkeye which is well done, but that aside this movie really offered little of substance and is totally forgettable.The story was like something you get watching a cartoon for young children on morning TV.The Banner/Hulk thing was fine, but if there was a comic called the Incredible Banner, no one would buy it.It's the HULK who is 'incredible' and he's totally marginalized for the entire movie, just to make Mark Ruffalow's acting 'shine'.A really, really disappointing film and that there are so many 10/10 reviews on here is baffling and I can only assume they have been written by the children this film was aimed at.A real shame as infinity Wars had set this up perfectly.Avengers Assemble 9/10\n",
      "Age Of Ultron 6/10\n",
      "Infinity Wars 8/10\n",
      "End Game 4/10\n",
      "Sentiment:  negative\n",
      "Elapsed Time:  0.22497129440307617\n",
      "----------------------------------------------------------------------------------------------------\n",
      "Review 23:\n",
      "2,5 hours of nonsense and gigantic plotholes. 15 minutes of action which is a total mess. CGI looks good, bit dark. Thor, one of the strongest badass characters in Marvel Universe is a drunk fat dude, does not make sense. Cap. America who can use Thors Hammer suddenly with lightning abilities, why? Cap. Marvel is OP, shows up randomly does huge amounts of damage and dissapears again list goes on and on... Iron man is the only character in this movie who deservers credits in my opinion. Infinity war is way better, its really overrated.\n",
      "Sentiment:  negative\n",
      "Elapsed Time:  0.07036399841308594\n",
      "----------------------------------------------------------------------------------------------------\n",
      "Review 24:\n",
      "Endgame is a much less interesting and visually engaging movie than Infinity War. I don't understand all the crazy hype and 8.8 on imdb is stupid, this is why I'm giving it one star, to mitigate the stupidity.As everyone expected, remaining avengers use time travel to try to fix things, yet even for a marvel movie the time travel science is confusing and ridiculous, as well as shown in a very boring way. I've seen low budget movies that had better grasp on the scientific, logical and visual aspect of time travel.The whole point of endgame is to resurrect the fallen avengers and other trillions of creatures across the galaxy, yet while doing it avengers end up losing irrevocably even more important members of the team, and the whole thing looks ill-conceived.A lot of time is spent on meaningless conversations, while the devastation Thanos caused across the galaxy is barely shown, negating the past and current sacrifices of avengers.I left Infinity War wanting to see how the story ends.\n",
      "I left Endgame feeling that I should've waited for it to come out on Netflix.\n",
      "Sentiment:  negative\n",
      "Elapsed Time:  0.1080789566040039\n",
      "----------------------------------------------------------------------------------------------------\n",
      "Review 25:\n",
      "One of the best comic book movie villains was ruined.\n",
      "Who writes this thing? Time travel? Really? Result:\n",
      "Film full of plot holes.\n",
      "Unsatisfying deaths of main characters Tony and Natasha.\n",
      "Previously cool - now ruined characters Thor and Hulk.\n",
      "I feel like Thanos today.\n",
      "Sentiment:  negative\n",
      "Elapsed Time:  0.061211347579956055\n",
      "----------------------------------------------------------------------------------------------------\n"
     ]
    }
   ],
   "source": [
    "# Example usage\n",
    "imdb_id = get_imdb_id(\"Avengers: Endgame\")\n",
    "reviews = scrape_imdb_reviews(imdb_id)\n",
    "dash_line = '-' * 100\n",
    "# Print the first few reviews\n",
    "for i, review in enumerate(reviews, 1):\n",
    "    print(f\"Review {i}:\")\n",
    "    print(review)\n",
    "    sentiment, runtime = get_sentiment(review)\n",
    "    print('Sentiment: ', sentiment)\n",
    "    print('Elapsed Time: ', runtime)\n",
    "    print(dash_line)"
   ]
  }
 ],
 "metadata": {
  "kernelspec": {
   "display_name": "Python 3 (ipykernel)",
   "language": "python",
   "name": "python3"
  },
  "language_info": {
   "codemirror_mode": {
    "name": "ipython",
    "version": 3
   },
   "file_extension": ".py",
   "mimetype": "text/x-python",
   "name": "python",
   "nbconvert_exporter": "python",
   "pygments_lexer": "ipython3",
   "version": "3.10.14"
  }
 },
 "nbformat": 4,
 "nbformat_minor": 5
}

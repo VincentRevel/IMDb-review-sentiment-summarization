{
 "cells": [
  {
   "cell_type": "markdown",
   "id": "da7e8e07",
   "metadata": {},
   "source": [
    "## Import"
   ]
  },
  {
   "cell_type": "code",
   "execution_count": 2,
   "id": "85dd5bef",
   "metadata": {
    "scrolled": true
   },
   "outputs": [],
   "source": [
    "from bs4 import BeautifulSoup\n",
    "import requests\n",
    "import pandas as pd\n",
    "from imdb import IMDb"
   ]
  },
  {
   "cell_type": "markdown",
   "id": "a633bb3a",
   "metadata": {},
   "source": [
    "## Example of bs4 Usage"
   ]
  },
  {
   "cell_type": "code",
   "execution_count": 3,
   "id": "196f49fd",
   "metadata": {},
   "outputs": [],
   "source": [
    "url = \"https://www.imdb.com/chart/top/\""
   ]
  },
  {
   "cell_type": "code",
   "execution_count": 4,
   "id": "eec74e77",
   "metadata": {},
   "outputs": [],
   "source": [
    "HEADERS = {'User-Agent': 'Mozilla/5.0 (iPad; CPU OS 12_2 like Mac OS X) AppleWebKit/605.1.15 (KHTML, like Gecko) Mobile/15E148'}"
   ]
  },
  {
   "cell_type": "markdown",
   "id": "77954003",
   "metadata": {},
   "source": [
    "### Request the page"
   ]
  },
  {
   "cell_type": "code",
   "execution_count": 5,
   "id": "14e938c2",
   "metadata": {},
   "outputs": [
    {
     "data": {
      "text/plain": [
       "<Response [200]>"
      ]
     },
     "execution_count": 5,
     "metadata": {},
     "output_type": "execute_result"
    }
   ],
   "source": [
    "page = requests.get(url, headers=HEADERS)\n",
    "page"
   ]
  },
  {
   "cell_type": "markdown",
   "id": "8c6da7cd",
   "metadata": {},
   "source": [
    "### Getting the page content"
   ]
  },
  {
   "cell_type": "code",
   "execution_count": 6,
   "id": "ab067c5a",
   "metadata": {},
   "outputs": [],
   "source": [
    "soup = BeautifulSoup(page.content, \"html.parser\")"
   ]
  },
  {
   "cell_type": "markdown",
   "id": "c4f19d5a",
   "metadata": {},
   "source": [
    "I'm trying to scrap the title and rank of top 250 Movies from IMDb chart\n",
    "\n",
    "On the HTML element the title was on <\\h3> class = ipc-title__text"
   ]
  },
  {
   "cell_type": "code",
   "execution_count": 7,
   "id": "803642aa",
   "metadata": {},
   "outputs": [
    {
     "data": {
      "text/plain": [
       "[<h3 class=\"ipc-title__text\">IMDb Charts</h3>,\n",
       " <h3 class=\"ipc-title__text\">1. The Shawshank Redemption</h3>,\n",
       " <h3 class=\"ipc-title__text\">2. The Godfather</h3>,\n",
       " <h3 class=\"ipc-title__text\">3. The Dark Knight</h3>,\n",
       " <h3 class=\"ipc-title__text\">4. The Godfather: Part II</h3>,\n",
       " <h3 class=\"ipc-title__text\">5. 12 Angry Men</h3>,\n",
       " <h3 class=\"ipc-title__text\">6. Schindler's List</h3>,\n",
       " <h3 class=\"ipc-title__text\">7. The Lord of the Rings: The Return of the King</h3>,\n",
       " <h3 class=\"ipc-title__text\">8. Pulp Fiction</h3>,\n",
       " <h3 class=\"ipc-title__text\">9. The Lord of the Rings: The Fellowship of the Ring</h3>,\n",
       " <h3 class=\"ipc-title__text\">10. The Good, the Bad and the Ugly</h3>,\n",
       " <h3 class=\"ipc-title__text\">11. Forrest Gump</h3>,\n",
       " <h3 class=\"ipc-title__text\">12. The Lord of the Rings: The Two Towers</h3>,\n",
       " <h3 class=\"ipc-title__text\">13. Fight Club</h3>,\n",
       " <h3 class=\"ipc-title__text\">14. Inception</h3>,\n",
       " <h3 class=\"ipc-title__text\">15. Star Wars: Episode V - The Empire Strikes Back</h3>,\n",
       " <h3 class=\"ipc-title__text\">16. The Matrix</h3>,\n",
       " <h3 class=\"ipc-title__text\">17. GoodFellas</h3>,\n",
       " <h3 class=\"ipc-title__text\">18. One Flew Over the Cuckoo's Nest</h3>,\n",
       " <h3 class=\"ipc-title__text\">19. Se7en</h3>,\n",
       " <h3 class=\"ipc-title__text\">20. Interstellar</h3>,\n",
       " <h3 class=\"ipc-title__text\">21. It's a Wonderful Life</h3>,\n",
       " <h3 class=\"ipc-title__text\">22. Shichinin no samurai</h3>,\n",
       " <h3 class=\"ipc-title__text\">23. The Silence of the Lambs</h3>,\n",
       " <h3 class=\"ipc-title__text\">24. Saving Private Ryan</h3>,\n",
       " <h3 class=\"ipc-title__text\">25. City of God</h3>,\n",
       " <h3 class=\"ipc-title__text\">Recently viewed</h3>]"
      ]
     },
     "execution_count": 7,
     "metadata": {},
     "output_type": "execute_result"
    }
   ],
   "source": [
    "scraped_movies = soup.find_all('h3', class_='ipc-title__text')\n",
    "scraped_movies"
   ]
  },
  {
   "cell_type": "markdown",
   "id": "7151c8d7",
   "metadata": {},
   "source": [
    "## Get IMDB movie ID based on movie title"
   ]
  },
  {
   "cell_type": "code",
   "execution_count": 8,
   "id": "1c603f4c",
   "metadata": {},
   "outputs": [],
   "source": [
    "def get_imdb_id(movie_title):\n",
    "    # Create an instance of the IMDb class\n",
    "    ia = IMDb()\n",
    "\n",
    "    # Search for a movie by title\n",
    "    results = ia.search_movie(movie_title)\n",
    "\n",
    "    # Return the IMDb ID of the first result, if available\n",
    "    if results:\n",
    "        return results[0].movieID\n",
    "    else:\n",
    "        return None"
   ]
  },
  {
   "cell_type": "code",
   "execution_count": 9,
   "id": "73965380",
   "metadata": {},
   "outputs": [
    {
     "name": "stdout",
     "output_type": "stream",
     "text": [
      "IMDb ID for 'Avengers: Endgame': 4154796\n"
     ]
    }
   ],
   "source": [
    "# Example usage\n",
    "movie_title = \"Avengers: Endgame\"\n",
    "imdb_id = get_imdb_id(movie_title)\n",
    "if imdb_id:\n",
    "    print(f\"IMDb ID for '{movie_title}': {imdb_id}\")\n",
    "else:\n",
    "    print(f\"No results found for '{movie_title}'\")"
   ]
  },
  {
   "cell_type": "markdown",
   "id": "f6fe1c3c",
   "metadata": {},
   "source": [
    "## Scrape 25 Reviews sorted by most Total Votes"
   ]
  },
  {
   "cell_type": "code",
   "execution_count": 10,
   "id": "255f54a0",
   "metadata": {},
   "outputs": [],
   "source": [
    "def scrape_imdb_reviews(imdb_id):\n",
    "    # Construct the URL for the movie's reviews page\n",
    "    url = f\"https://www.imdb.com/title/tt{imdb_id}/reviews?sort=totalVotes\"\n",
    "\n",
    "    # Send a GET request to the URL\n",
    "    response = requests.get(url)\n",
    "    \n",
    "    # Parse the HTML content of the page\n",
    "    soup = BeautifulSoup(response.content, \"html.parser\")\n",
    "\n",
    "    # Find all review elements on the page\n",
    "    reviews = soup.find_all(\"div\", class_=\"text show-more__control\")\n",
    "\n",
    "    # Extract the text of each review\n",
    "    review_texts = [review.get_text() for review in reviews]\n",
    "\n",
    "    return review_texts"
   ]
  },
  {
   "cell_type": "code",
   "execution_count": 11,
   "id": "0fa5c1d6",
   "metadata": {},
   "outputs": [
    {
     "name": "stdout",
     "output_type": "stream",
     "text": [
      "Review 1:\n",
      "I have to say, my first reaction walking out of the cinema was that it was great. Probably an 8/10. You know there's so much fan service in this movie and I particularly loved the \"I can do this all day\" CA line from one CA to another. It was almost Toy Story 2, enlightened Buzz to naive Buzz banter.I loved Clever Hulk, found Thor hilarious, though a bit annoying at times, and loved the references to past movies. Cap swinging Mjollnir around was beautiful.The deaths in this movie were also pretty surprising but I agree with some of the more balanced reviews in here that it was bizarre that so much time was spent on Hawkeye - does anyone really care about him? Not really.Killing off Black Widow was a surprising touch, but I, like many others, probably felt more of an emotional reaction to Banner's relationship with her and not Hawkeye (because no one actually cares about him). Renner, as an actor, just doesn't cut it much, unfortunately.The real problem with End Game, is the time travel. I don't know why any movie franchise would ever want to deal with time travel knowing how much grief it creates. Sure they try to explain everything with their hilarious conversation about movies, but in the end, there are just too many questions left at the end of the day, particularly when they already try to explain it through the Ancient One.The most glaring one of these is, if they change the past, they're changing another timeline, so how selfish is that? If Tony Stark snaps his fingers and kills Thanos, what happens to that original timeline? If he sent Thanos and everyone back, how does he magically know not to send Gamora back who is now stuck in 2023 - and so does that mean 2014 Quill never meets Gamora?!? What the hell? Essentially erasing the entire 2014 GOTG franchise in that universe. If Captain America goes back in time, he will inevitably change history in some way or another, so that is another timeline, right? So while everyone else's timeline is meant to stay the same in the present (as said by Stark) how does Cap end up sitting by the same lake as everyone else.There are also way too many questions about new timelines created - but perhaps that is intentional, such as the Loki TV show. But this is why I hate it when they bring time travel into any movie and just add stuff to it to make it wrap up nicely in their own universe.Also, don't get me started on how impossibly strong Thanos suddenly is without an infinity gauntlet? Even WITH the IG he couldn't stop Thor's Stormbringer, but now without the IG can easily defeat Thor with Stormbringer AND Mjollnir, Iron Man and Cap??? How convenient.I also think Marvel made a serious mistake creating Captain Marvel, how is she brought in as a convenient deus ex machina and yet doesn't really stick around to show off all her abilities, and she can't even defeat Thanos single handedly? Pfft. That was rich. She can barely prevent Thanos from snapping his fingers, yet in Infinity War, Cap was able to actually hold off his hand too? Bizarre parallels.So okay, sure, it was enjoyable to watch, but I just feel that there are too many plot inconsistencies creeping into End Game. There should have been better ways to get the infinity stones back, and I think someone stupid just thought time travel was the best way to do it,.\n",
      "\n",
      "Review 2:\n",
      "After Avengers Infinity War, we waited for the Avengers Endgame. We wondered how the story would go on, how our heroes would turn back, what would be the end of Thanos. Many theories related to this have been put forward. Avengers Endgame was undoubtedly the most anticipated film of recent years. Normally, the higher the expectation, the higher the probability of disappointment. But this is not the case for Endgame. Whatever you're expecting, you find much more in the film. This means that the biggest concern about the film has disappeared.On the other hand, another comparison comes up. Is Endgame more successful than Infinity War? We can comfortably say it Avengers Infinity War is just the beginning of the story. Endgame was the finale of the story. So we shouldn't think of these two films as two separate stories. There is only one story divided into two parts.Avengers Endgame is, above all, a great homage to the ten-year history of the Marvel Cinematic Universe. The story highlights the original Avengers team. Iron Man, Captain America, Thor, Hulk, Black Widow and Hawkeye are at the center of events. No character comes in front of them. Of course there are many characters that play an important role in the story outside the original Avengers team. Everyone's concern was that Captain Marvel, who was included in the Marvel world, overshadowed other heroes. We can say that this certainly did not happen. What is important in this struggle is not how strong you are, but how good you are. This comes to the fore in all areas. It gives good message about being a hero and a family.Of course, Avengers Endgame has some critical aspects. For example, is the three-hour period necessary in terms of the story? It can be discussed. The head of the story moves much slower than the rest. It also drags the heroes into an emotional predicament. Then the tempo is rising and the heavy scenes we are watching are getting more meaningful. The last 45 minutes of the movie is fully action packed. But the last 45 minutes goes so fast that you don't even realize it. Action and battle scenes are really successful. There is not even a slight distress about visual effects. There are also slight logic errors in the film, but in general the story is so successful that these details become meaningless and insignificant after a certain point.Lastly, Avengers Endgame doesn't have a movie end scene. Because after the film's final, there is no need for another scene. The Marvel legend Stan Lee appears with a small stage. But this is the last surprise scene in the Marvel Cinematic Universe. Moreover, there is no clue about Marvel's future. This makes us wonder more about Spider-Man: Far from Home. 10/10\n",
      "\n",
      "Review 3:\n",
      "If you're going to watch this movie, avoid any spoilers, even spoiler free reviews.\n",
      "Which is why I'm not going to say anything about the movie. Not even my opinion. All I'm going to say is:The crowd applauded 3 times during the movie, and stood up to clap their hands after. This I have never witnessed in a Dutch cinema. Dutch crowds aren't usually passionate about this. I checked the row where I was sitting, and people were crying. After the movie, I was seeing people with smudged mascara. That's all I have to say about the movie.\n",
      "\n",
      "Review 4:\n",
      "I've just come from watching Endgame and I must say that I am disappointed.I loved Civil War and I loved Infinity War. When I came out of those films, I knew immediately that they were great and that I wanted to see them again. With Endgame, I'm not sure.I respect how they were prepared to show the consequences of what Thanos had done but by killing him off so quickly and then them having to do their own stone quest (hadn't we already seen Thanos doing this in IW) it felt slow and lazy. Worse still was that it felt very self-indulgent and attempting to be clever for clever sake.Like how Back to the Future II considered itself clever for showing the events of the first film but with Marty flitting around behind the scenes to ensure that it all still happened. I know it's meant to be fan pleasing but it really felt like a gimmick and lacking in confidence. Almost like it was saying 'Hey guys, this will make you smile'. If you want to make me smile, concentrate on maintaining the quality of your product rather than directly trying to make me like you.But the trouble with messing around with timelines and bouncing around is that it makes the audience start asking questions during the film. The linearity that we'd seen in IW and the imminent fast approaching threat is replaced in Endgame with a lack of direction and characters that are earlier versions of who the audience have seen.In IW we were shown Thanos. He was written to be sympathetic or at least a character that we the audience could understand. He believed in what he was doing and this made him more rounded. But in Endgame, that version is dispatched quickly and we are supplied with a 2014 (?) Thanos who isn't the character we know but is just a token bad guy.This Thanos hasn't made the sacrifice at Vormire, he isn't the guy that would empathise with Scarlet Witch for what she did to Vision. He has suddenly become a token cut out evil bad guy that needs to be defeated. Hell, the writers even manage to forget their own time loop by saying that this Thanos has learnt that he doesn't want to wipe out 50% anymore because they are too ungrateful. How does he know this when the 2014 Thanos has only just literally arrived in the post wipeout Universe? How has he had time to form the opinion that his previous quest for a 50% cull isn't worthy?Is this a case of the writers being terrified that they had created a bad guy that people related to or was it a fear that they'd written themselves into a hole? Why go to the effort of creating that character in IW to suddenly kill him off at the beginning of Endgame just for a dramatic punch?For me, the time travelling and stone gathering wasted time to create unimportant scenes that fundamentally undermine the films that came before.\n",
      "In my opinion it would have been better if they had shown the remaining Avengers preparing to do some Avenging and maintained the single minded linearity of IW of battling towards and reaching a post click Thanos and somehow reversing his work.The more I think of the film, the more plot holes and frustrations manifest themselves. Thor's drinking and man child antics might have been initially funny but one begins to realise that they are deliberately doing this to clip his wings. Likewise with Hulk, his primordial desire to smash and destroy has been removed to think it out and he has become an embarrassing shadow of his former self.The thing that is meant to be amazing about the MCU is the world building but inconsistencies have been appearing and there are so many in Endgame that it makes you question whether these two films are written by the same people.In IW, Thanos is a dangerous and credible threat because he has the infinity stones. He takes on half of the Avengers, Strange and some of the Guardians on Titan and smashes them and then takes on the other half on Wakanda and smashes them. Yet it is Stormbreaker (whose creation we have seen been hard earned by a motivated Thor) that has the power to take down Thanos even when he has a full complement of Infinity Stones.Yet we roll forward to Endgame and we have literally all the good guys together in one place, Cap with his shield, Tony fully powered up, Scarlet Witch p*ssed and vengeful, Capt Marvel who can seemingly do anything and Thor wielding both Mjolnir AND Stormbreaker and Thanos NOT in possession of the gauntlet, yet they can't defeat him.It's like the fights in IW were so amazing because the good guys were taking on an unbeatable foe yet here he is now seemingly defeatable by the 'rules' that the writers established . A good example of this would be in IW when Cap is the last man standing before Scarlet Witch and he grabs the gauntlet. You see the look of admiration/respect on Thanos' face that Cap is holding open the gauntlet before he punches him to the ground yet now that scene seems pointless.The writers for Endgame seem to have been driven to undo everything they did in IW. All the tension, all the sacrifice, all the development of Thanos discarded for well, I don't know what. It makes no sense.IW had two incredible scenes that used to choke me up. When Cap appears in the train station, the Avengers theme kicks in and Falcon and Widow take down the henchman in a wonderfully choreographed scene. In just that one scene it shows them coming to the rescue, it shows how intuitively they work together and it showcases their heroism.Likewise when Thor creates Stormbreaker and makes his entrance on Wakanda, I felt it for the journey that Thor has been on. He's had to contend with loss and defeat and humiliation and this is his redemption. Here is a character that has earned his game changing weapon and when he arrives and demands to face a character that everyone else is running away from, I want to punch the air.But in Endgame, that feels like it has to be corrupted. We can't have Thor being dominant, let's break him and make him a fool. We can't have Thanos being complicated and relatable, let's make him a cut out bad guy. We can't have Hulk being rage fuelled and smashing stuff up, let's make him more sensitive and talking stuff out. We can't have Cap being stoic and heroic, let's have him ridiculing one of his own iconic lines in a silly gimmicky fight with himself and commenting on his butt. We can't have a powerful female character that we're invested in look sexy AND be able to take down Thanos, let's give Scarlet Witch a small part but focus our attention on a female character that hasn't earnt our admiration or desire for revenge.To be honest, the 'rules of engagement' had been set so well in IW that when in Endgame Thanos massed his ranks against the Avengers and then ALL of the good guys showed up, I was almost expecting the camera to pull away and not show the fight given that it was so obviously going to be an easy win for the good guys.And as for the big fight scene, it did reek of what DC always manage to do which is just throw everything into an end battle and bludgeon you with CGI and pyrotechnics so that you aren't really sure what is going on.In the many fights in IW, you knew what was going on, you recognised the combatants, you understood the stakes and you identified the geography of the scene. In Endgame we got one big massive fight where everything was thrown in the pot and it was just assumed by the directors that we would be happy with all the flashing lights.\n",
      "And I have to say that considering that Steve and Tony fell out so hard, and that Tony's criticism of Steve was so unfair, that I really had hoped for more than just a handshake, a muttering of 'no worries' and 'here's your shield'. These guys wrote and directed Civil War, they created the line 'we fell out hard' and hence I had hoped for something deeper and more touching than a handshake.Steve wrote Tony a letter telling him that when he needed him he'd be there but once again the Iron Man bias had to creep in and once again Tony was the victim and the ultimate hero.But I think my biggest problem is how the convenient time travelling undermines everything. When a franchise starts retrofitting stuff (like Fury's eye being from a space cat), it's then hard to consider the previous stories.Having 2014 Gamorra means that all the evolution that we saw her go through in GOTG 1 and 2 is wasted. Having Cap marry Peggy means the pain of his sacrifice, him seeing her in Winter Soldier when she is suffering from Alzheimer's, hell even his blossoming relationship with Sharon Carter is kinda irrelevant. Having seen Thor at last step away from his two weaker origin films into the entertainment of Ragnarok and the redemption in IW leaves us now with a bumbling buffoon.We know that what makes Captain America what he is, is the serum that makes him a super soldier. That he was transformed from a weakling to a superhuman. Sam Wilson is not a super soldier and he didn't take the serum. He is Falcon. Now maybe in the comics he becomes Cap but Bucky is a super soldier. Is the new Cap going to foil an evil plot and be defeated with a tazer or a knife to the chest? Consider the beatings that Steve has taken and the physical strength that he has shown we can recognise that Sam Wilson does not have that.I'm sorry to say but the Russo's have dropped the ball. Themselves and their writers have succumbed to their success and their desire to be engineers of political correctness and social change. I thought Endgame would be the high soaring end to this 10 year run of impressive movie entertainment but in the end the writers got carried away, the directors over reached and the studio sacrificed the integrity of their product for a chance to 'educate' us all. A real shame and a wasted opportunity.Infinity War is clearly the highlight of the last 10 years but even now I fear that repeated viewings will render it pointless considering how the makers decided to fundamentally damage it.\n",
      "\n",
      "Review 5:\n",
      "Rating 10/10\n",
      "Absolute perfection end game !! Good acting performance to all the characters. Great cgi's. Truly epic & perfect ending to a long journey of marvel movie. Go see it you wont regret it !! Perfection Marvel Endgame !!\n",
      "\n"
     ]
    }
   ],
   "source": [
    "# Example usage\n",
    "imdb_id = get_imdb_id(\"Avengers: Endgame\")\n",
    "reviews = scrape_imdb_reviews(imdb_id)\n",
    "\n",
    "# Print the first few reviews\n",
    "for i, review in enumerate(reviews[:5], 1):\n",
    "    print(f\"Review {i}:\")\n",
    "    print(review)\n",
    "    print()"
   ]
  },
  {
   "cell_type": "code",
   "execution_count": 13,
   "id": "9dfa3ba0-8689-4616-9db8-df87ebc685a1",
   "metadata": {},
   "outputs": [
    {
     "data": {
      "text/plain": [
       "25"
      ]
     },
     "execution_count": 13,
     "metadata": {},
     "output_type": "execute_result"
    }
   ],
   "source": [
    "len(reviews)"
   ]
  },
  {
   "cell_type": "markdown",
   "id": "9d32fdeb",
   "metadata": {},
   "source": [
    "## Scrape the movie basic information"
   ]
  },
  {
   "cell_type": "code",
   "execution_count": 54,
   "id": "8135efc3",
   "metadata": {},
   "outputs": [],
   "source": [
    "def scrape_movie_details(imdb_id):\n",
    "    # Construct the URL for the movie's IMDb page\n",
    "    url = f\"https://www.imdb.com/title/{imdb_id}/\"\n",
    "    summaries_url = f\"https://www.imdb.com/title/{imdb_id}/plotsummary/\"\n",
    "\n",
    "    # Send a GET request to the URL\n",
    "    response = requests.get(url, headers=HEADERS)\n",
    "    response_sum = requests.get(summaries_url, headers=HEADERS)\n",
    "    \n",
    "\n",
    "    # Parse the HTML content of the page\n",
    "    soup = BeautifulSoup(response.content, \"html.parser\")\n",
    "    soup_sum = BeautifulSoup(response_sum.content, \"html.parser\")\n",
    "\n",
    "    # Extract movie details\n",
    "    details = {}\n",
    "\n",
    "    # Get title\n",
    "    title_elem = soup.find('span', class_='hero__primary-text')\n",
    "    details['title'] = title_elem.text.strip() if title_elem else None\n",
    "\n",
    "    # Get summaries\n",
    "    summaries = soup_sum.find('div', 'ipc-html-content-inner-div')\n",
    "    details['summaries'] = summaries.text.strip() if summaries else None\n",
    "\n",
    "    \n",
    "    # Get overall rating\n",
    "    rating = soup.find('span', class_='sc-bde20123-1 cMEQkK')\n",
    "    details['rating'] = rating.text.strip() if rating else None\n",
    "\n",
    "    # Get genres\n",
    "    genres = soup.find_all(\"span\", class_='ipc-chip__text')\n",
    "#     details['genres'] = [genre.text for genre in genres[:-1]]\n",
    "    details['genres'] = ', '.join([genre.text for genre in genres[:-1]])\n",
    "\n",
    "    # Get release year\n",
    "    release_year = soup.select_one('a[href*=\"releaseinfo\"]:not([aria-label]):not([class*=\"icon-link\"])')\n",
    "    details['release_year'] = release_year.text.strip() if release_year else None\n",
    "\n",
    "     # Get runtime\n",
    "    runtime = soup.find('li', string=lambda text: text and 'h' in text and 'm' in text)\n",
    "    details['runtime'] = runtime.text.strip() if runtime else None\n",
    "\n",
    "    return details"
   ]
  },
  {
   "cell_type": "code",
   "execution_count": 56,
   "id": "f3a53bea",
   "metadata": {},
   "outputs": [
    {
     "name": "stdout",
     "output_type": "stream",
     "text": [
      "Movie Details:\n",
      "Title: Avengers: Endgame\n",
      "Summaries: After the devastating events of Avengers: Infinity War (2018), the universe is in ruins. With the help of remaining allies, the Avengers assemble once more in order to reverse Thanos' actions and restore balance to the universe.\n",
      "Rating: 8.4\n",
      "Genres: Action, Adventure, Drama\n",
      "Release Year: 2019\n",
      "Runtime: 3h 1m\n"
     ]
    }
   ],
   "source": [
    "# Example usage\n",
    "imdb_id = \"tt4154796\"\n",
    "movie_details = scrape_movie_details(imdb_id)\n",
    "\n",
    "print(\"Movie Details:\")\n",
    "print(f\"Title: {movie_details['title']}\")\n",
    "print(f\"Summaries: {movie_details['summaries']}\")\n",
    "print(f\"Rating: {movie_details['rating']}\")\n",
    "# print(f\"Genres: {', '.join(movie_details['genres'])}\")\n",
    "print(f\"Genres: {movie_details['genres']}\")\n",
    "print(f\"Release Year: {movie_details['release_year']}\")\n",
    "print(f\"Runtime: {movie_details['runtime']}\")"
   ]
  },
  {
   "cell_type": "code",
   "execution_count": 57,
   "id": "486685c0",
   "metadata": {},
   "outputs": [],
   "source": [
    "# Create a list to hold the movie details\n",
    "movie_details_list = []\n",
    "\n",
    "# Append the movie details to the list\n",
    "movie_details_list.append(movie_details)\n",
    "\n",
    "# Create a DataFrame from the list\n",
    "movie_df = pd.DataFrame(movie_details_list)"
   ]
  },
  {
   "cell_type": "code",
   "execution_count": 58,
   "id": "606156c4",
   "metadata": {},
   "outputs": [
    {
     "data": {
      "text/html": [
       "<div>\n",
       "<style scoped>\n",
       "    .dataframe tbody tr th:only-of-type {\n",
       "        vertical-align: middle;\n",
       "    }\n",
       "\n",
       "    .dataframe tbody tr th {\n",
       "        vertical-align: top;\n",
       "    }\n",
       "\n",
       "    .dataframe thead th {\n",
       "        text-align: right;\n",
       "    }\n",
       "</style>\n",
       "<table border=\"1\" class=\"dataframe\">\n",
       "  <thead>\n",
       "    <tr style=\"text-align: right;\">\n",
       "      <th></th>\n",
       "      <th>title</th>\n",
       "      <th>summaries</th>\n",
       "      <th>rating</th>\n",
       "      <th>genres</th>\n",
       "      <th>release_year</th>\n",
       "      <th>runtime</th>\n",
       "    </tr>\n",
       "  </thead>\n",
       "  <tbody>\n",
       "    <tr>\n",
       "      <th>0</th>\n",
       "      <td>Avengers: Endgame</td>\n",
       "      <td>After the devastating events of Avengers: Infi...</td>\n",
       "      <td>8.4</td>\n",
       "      <td>Action, Adventure, Drama</td>\n",
       "      <td>2019</td>\n",
       "      <td>3h 1m</td>\n",
       "    </tr>\n",
       "  </tbody>\n",
       "</table>\n",
       "</div>"
      ],
      "text/plain": [
       "               title                                          summaries  \\\n",
       "0  Avengers: Endgame  After the devastating events of Avengers: Infi...   \n",
       "\n",
       "  rating                    genres release_year runtime  \n",
       "0    8.4  Action, Adventure, Drama         2019   3h 1m  "
      ]
     },
     "execution_count": 58,
     "metadata": {},
     "output_type": "execute_result"
    }
   ],
   "source": [
    "movie_df"
   ]
  },
  {
   "cell_type": "markdown",
   "id": "6651802b",
   "metadata": {},
   "source": [
    "## Trial and error"
   ]
  },
  {
   "cell_type": "code",
   "execution_count": 44,
   "id": "88aafad9",
   "metadata": {},
   "outputs": [],
   "source": [
    "url = 'https://www.imdb.com/title/tt0111161/plotsummary/'\n",
    "\n",
    "# Send a GET request to the URL\n",
    "response = requests.get(url, headers=HEADERS)\n",
    "\n",
    "soup = BeautifulSoup(response.content, \"html.parser\")"
   ]
  },
  {
   "cell_type": "code",
   "execution_count": 45,
   "id": "01030212",
   "metadata": {},
   "outputs": [
    {
     "data": {
      "text/plain": [
       "<div class=\"ipc-html-content-inner-div\">Over the course of several years, two convicts form a friendship, seeking consolation and, eventually, redemption through basic compassion.</div>"
      ]
     },
     "execution_count": 45,
     "metadata": {},
     "output_type": "execute_result"
    }
   ],
   "source": [
    "storyline_elem = soup.find('div', 'ipc-html-content-inner-div')\n",
    "storyline_elem"
   ]
  },
  {
   "cell_type": "code",
   "execution_count": 113,
   "id": "566da1ef",
   "metadata": {},
   "outputs": [
    {
     "data": {
      "text/plain": [
       "'2019'"
      ]
     },
     "execution_count": 113,
     "metadata": {},
     "output_type": "execute_result"
    }
   ],
   "source": [
    "storyline_elem.text.strip()"
   ]
  }
 ],
 "metadata": {
  "kernelspec": {
   "display_name": "Python 3 (ipykernel)",
   "language": "python",
   "name": "python3"
  },
  "language_info": {
   "codemirror_mode": {
    "name": "ipython",
    "version": 3
   },
   "file_extension": ".py",
   "mimetype": "text/x-python",
   "name": "python",
   "nbconvert_exporter": "python",
   "pygments_lexer": "ipython3",
   "version": "3.10.14"
  }
 },
 "nbformat": 4,
 "nbformat_minor": 5
}
